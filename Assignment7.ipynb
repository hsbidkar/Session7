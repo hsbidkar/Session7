{
 "cells": [
  {
   "cell_type": "markdown",
   "metadata": {},
   "source": [
    "# Assignment 7\n",
    "## Task 1 : Read the following data set:\n",
    "## https://archive.ics.uci.edu/ml/machine-learning-databases/adult/\n",
    "### Create a sql db from adult dataset and name it sqladb "
   ]
  },
  {
   "cell_type": "code",
   "execution_count": 2,
   "metadata": {},
   "outputs": [],
   "source": [
    "import pandas as pd\n",
    "import sqlite3 as db\n",
    "from pandasql import sqldf"
   ]
  },
  {
   "cell_type": "code",
   "execution_count": 3,
   "metadata": {},
   "outputs": [
    {
     "data": {
      "text/html": [
       "<div>\n",
       "<style scoped>\n",
       "    .dataframe tbody tr th:only-of-type {\n",
       "        vertical-align: middle;\n",
       "    }\n",
       "\n",
       "    .dataframe tbody tr th {\n",
       "        vertical-align: top;\n",
       "    }\n",
       "\n",
       "    .dataframe thead th {\n",
       "        text-align: right;\n",
       "    }\n",
       "</style>\n",
       "<table border=\"1\" class=\"dataframe\">\n",
       "  <thead>\n",
       "    <tr style=\"text-align: right;\">\n",
       "      <th></th>\n",
       "      <th>0</th>\n",
       "      <th>1</th>\n",
       "      <th>2</th>\n",
       "      <th>3</th>\n",
       "      <th>4</th>\n",
       "      <th>5</th>\n",
       "      <th>6</th>\n",
       "      <th>7</th>\n",
       "      <th>8</th>\n",
       "      <th>9</th>\n",
       "      <th>10</th>\n",
       "      <th>11</th>\n",
       "      <th>12</th>\n",
       "      <th>13</th>\n",
       "      <th>14</th>\n",
       "    </tr>\n",
       "  </thead>\n",
       "  <tbody>\n",
       "    <tr>\n",
       "      <th>0</th>\n",
       "      <td>39</td>\n",
       "      <td>State-gov</td>\n",
       "      <td>77516</td>\n",
       "      <td>Bachelors</td>\n",
       "      <td>13</td>\n",
       "      <td>Never-married</td>\n",
       "      <td>Adm-clerical</td>\n",
       "      <td>Not-in-family</td>\n",
       "      <td>White</td>\n",
       "      <td>Male</td>\n",
       "      <td>2174</td>\n",
       "      <td>0</td>\n",
       "      <td>40</td>\n",
       "      <td>United-States</td>\n",
       "      <td>&lt;=50K</td>\n",
       "    </tr>\n",
       "    <tr>\n",
       "      <th>1</th>\n",
       "      <td>50</td>\n",
       "      <td>Self-emp-not-inc</td>\n",
       "      <td>83311</td>\n",
       "      <td>Bachelors</td>\n",
       "      <td>13</td>\n",
       "      <td>Married-civ-spouse</td>\n",
       "      <td>Exec-managerial</td>\n",
       "      <td>Husband</td>\n",
       "      <td>White</td>\n",
       "      <td>Male</td>\n",
       "      <td>0</td>\n",
       "      <td>0</td>\n",
       "      <td>13</td>\n",
       "      <td>United-States</td>\n",
       "      <td>&lt;=50K</td>\n",
       "    </tr>\n",
       "    <tr>\n",
       "      <th>2</th>\n",
       "      <td>38</td>\n",
       "      <td>Private</td>\n",
       "      <td>215646</td>\n",
       "      <td>HS-grad</td>\n",
       "      <td>9</td>\n",
       "      <td>Divorced</td>\n",
       "      <td>Handlers-cleaners</td>\n",
       "      <td>Not-in-family</td>\n",
       "      <td>White</td>\n",
       "      <td>Male</td>\n",
       "      <td>0</td>\n",
       "      <td>0</td>\n",
       "      <td>40</td>\n",
       "      <td>United-States</td>\n",
       "      <td>&lt;=50K</td>\n",
       "    </tr>\n",
       "    <tr>\n",
       "      <th>3</th>\n",
       "      <td>53</td>\n",
       "      <td>Private</td>\n",
       "      <td>234721</td>\n",
       "      <td>11th</td>\n",
       "      <td>7</td>\n",
       "      <td>Married-civ-spouse</td>\n",
       "      <td>Handlers-cleaners</td>\n",
       "      <td>Husband</td>\n",
       "      <td>Black</td>\n",
       "      <td>Male</td>\n",
       "      <td>0</td>\n",
       "      <td>0</td>\n",
       "      <td>40</td>\n",
       "      <td>United-States</td>\n",
       "      <td>&lt;=50K</td>\n",
       "    </tr>\n",
       "    <tr>\n",
       "      <th>4</th>\n",
       "      <td>28</td>\n",
       "      <td>Private</td>\n",
       "      <td>338409</td>\n",
       "      <td>Bachelors</td>\n",
       "      <td>13</td>\n",
       "      <td>Married-civ-spouse</td>\n",
       "      <td>Prof-specialty</td>\n",
       "      <td>Wife</td>\n",
       "      <td>Black</td>\n",
       "      <td>Female</td>\n",
       "      <td>0</td>\n",
       "      <td>0</td>\n",
       "      <td>40</td>\n",
       "      <td>Cuba</td>\n",
       "      <td>&lt;=50K</td>\n",
       "    </tr>\n",
       "  </tbody>\n",
       "</table>\n",
       "</div>"
      ],
      "text/plain": [
       "    0                  1       2           3   4                    5  \\\n",
       "0  39          State-gov   77516   Bachelors  13        Never-married   \n",
       "1  50   Self-emp-not-inc   83311   Bachelors  13   Married-civ-spouse   \n",
       "2  38            Private  215646     HS-grad   9             Divorced   \n",
       "3  53            Private  234721        11th   7   Married-civ-spouse   \n",
       "4  28            Private  338409   Bachelors  13   Married-civ-spouse   \n",
       "\n",
       "                    6               7       8        9    10  11  12  \\\n",
       "0        Adm-clerical   Not-in-family   White     Male  2174   0  40   \n",
       "1     Exec-managerial         Husband   White     Male     0   0  13   \n",
       "2   Handlers-cleaners   Not-in-family   White     Male     0   0  40   \n",
       "3   Handlers-cleaners         Husband   Black     Male     0   0  40   \n",
       "4      Prof-specialty            Wife   Black   Female     0   0  40   \n",
       "\n",
       "               13      14  \n",
       "0   United-States   <=50K  \n",
       "1   United-States   <=50K  \n",
       "2   United-States   <=50K  \n",
       "3   United-States   <=50K  \n",
       "4            Cuba   <=50K  "
      ]
     },
     "execution_count": 3,
     "metadata": {},
     "output_type": "execute_result"
    }
   ],
   "source": [
    "adultdf=pd.read_csv(\"https://archive.ics.uci.edu/ml/machine-learning-databases/adult/adult.data\",header=None)\n",
    "adultdf.to_csv(\"./adult.data.csv\",index=None) #Saved file for future use if URL is not available\n",
    "#adultdf=pd.read_csv(\"./adult.data.csv\")\n",
    "adultdf.head()"
   ]
  },
  {
   "cell_type": "code",
   "execution_count": 59,
   "metadata": {},
   "outputs": [
    {
     "data": {
      "text/plain": [
       "(32561, 15)"
      ]
     },
     "execution_count": 59,
     "metadata": {},
     "output_type": "execute_result"
    }
   ],
   "source": [
    "adultdf.shape"
   ]
  },
  {
   "cell_type": "code",
   "execution_count": 4,
   "metadata": {},
   "outputs": [
    {
     "data": {
      "text/html": [
       "<div>\n",
       "<style scoped>\n",
       "    .dataframe tbody tr th:only-of-type {\n",
       "        vertical-align: middle;\n",
       "    }\n",
       "\n",
       "    .dataframe tbody tr th {\n",
       "        vertical-align: top;\n",
       "    }\n",
       "\n",
       "    .dataframe thead th {\n",
       "        text-align: right;\n",
       "    }\n",
       "</style>\n",
       "<table border=\"1\" class=\"dataframe\">\n",
       "  <thead>\n",
       "    <tr style=\"text-align: right;\">\n",
       "      <th></th>\n",
       "      <th>age</th>\n",
       "      <th>workclass</th>\n",
       "      <th>fnlwgt</th>\n",
       "      <th>education</th>\n",
       "      <th>education-num</th>\n",
       "      <th>marital-status</th>\n",
       "      <th>occupation</th>\n",
       "      <th>relationship</th>\n",
       "      <th>race</th>\n",
       "      <th>sex</th>\n",
       "      <th>capital-gain</th>\n",
       "      <th>capital-loss</th>\n",
       "      <th>hours-per-week</th>\n",
       "      <th>native-country</th>\n",
       "      <th>prediction</th>\n",
       "    </tr>\n",
       "  </thead>\n",
       "  <tbody>\n",
       "    <tr>\n",
       "      <th>0</th>\n",
       "      <td>39</td>\n",
       "      <td>State-gov</td>\n",
       "      <td>77516</td>\n",
       "      <td>Bachelors</td>\n",
       "      <td>13</td>\n",
       "      <td>Never-married</td>\n",
       "      <td>Adm-clerical</td>\n",
       "      <td>Not-in-family</td>\n",
       "      <td>White</td>\n",
       "      <td>Male</td>\n",
       "      <td>2174</td>\n",
       "      <td>0</td>\n",
       "      <td>40</td>\n",
       "      <td>United-States</td>\n",
       "      <td>&lt;=50K</td>\n",
       "    </tr>\n",
       "    <tr>\n",
       "      <th>1</th>\n",
       "      <td>50</td>\n",
       "      <td>Self-emp-not-inc</td>\n",
       "      <td>83311</td>\n",
       "      <td>Bachelors</td>\n",
       "      <td>13</td>\n",
       "      <td>Married-civ-spouse</td>\n",
       "      <td>Exec-managerial</td>\n",
       "      <td>Husband</td>\n",
       "      <td>White</td>\n",
       "      <td>Male</td>\n",
       "      <td>0</td>\n",
       "      <td>0</td>\n",
       "      <td>13</td>\n",
       "      <td>United-States</td>\n",
       "      <td>&lt;=50K</td>\n",
       "    </tr>\n",
       "    <tr>\n",
       "      <th>2</th>\n",
       "      <td>38</td>\n",
       "      <td>Private</td>\n",
       "      <td>215646</td>\n",
       "      <td>HS-grad</td>\n",
       "      <td>9</td>\n",
       "      <td>Divorced</td>\n",
       "      <td>Handlers-cleaners</td>\n",
       "      <td>Not-in-family</td>\n",
       "      <td>White</td>\n",
       "      <td>Male</td>\n",
       "      <td>0</td>\n",
       "      <td>0</td>\n",
       "      <td>40</td>\n",
       "      <td>United-States</td>\n",
       "      <td>&lt;=50K</td>\n",
       "    </tr>\n",
       "    <tr>\n",
       "      <th>3</th>\n",
       "      <td>53</td>\n",
       "      <td>Private</td>\n",
       "      <td>234721</td>\n",
       "      <td>11th</td>\n",
       "      <td>7</td>\n",
       "      <td>Married-civ-spouse</td>\n",
       "      <td>Handlers-cleaners</td>\n",
       "      <td>Husband</td>\n",
       "      <td>Black</td>\n",
       "      <td>Male</td>\n",
       "      <td>0</td>\n",
       "      <td>0</td>\n",
       "      <td>40</td>\n",
       "      <td>United-States</td>\n",
       "      <td>&lt;=50K</td>\n",
       "    </tr>\n",
       "    <tr>\n",
       "      <th>4</th>\n",
       "      <td>28</td>\n",
       "      <td>Private</td>\n",
       "      <td>338409</td>\n",
       "      <td>Bachelors</td>\n",
       "      <td>13</td>\n",
       "      <td>Married-civ-spouse</td>\n",
       "      <td>Prof-specialty</td>\n",
       "      <td>Wife</td>\n",
       "      <td>Black</td>\n",
       "      <td>Female</td>\n",
       "      <td>0</td>\n",
       "      <td>0</td>\n",
       "      <td>40</td>\n",
       "      <td>Cuba</td>\n",
       "      <td>&lt;=50K</td>\n",
       "    </tr>\n",
       "  </tbody>\n",
       "</table>\n",
       "</div>"
      ],
      "text/plain": [
       "   age          workclass  fnlwgt   education  education-num  \\\n",
       "0   39          State-gov   77516   Bachelors             13   \n",
       "1   50   Self-emp-not-inc   83311   Bachelors             13   \n",
       "2   38            Private  215646     HS-grad              9   \n",
       "3   53            Private  234721        11th              7   \n",
       "4   28            Private  338409   Bachelors             13   \n",
       "\n",
       "        marital-status          occupation    relationship    race      sex  \\\n",
       "0        Never-married        Adm-clerical   Not-in-family   White     Male   \n",
       "1   Married-civ-spouse     Exec-managerial         Husband   White     Male   \n",
       "2             Divorced   Handlers-cleaners   Not-in-family   White     Male   \n",
       "3   Married-civ-spouse   Handlers-cleaners         Husband   Black     Male   \n",
       "4   Married-civ-spouse      Prof-specialty            Wife   Black   Female   \n",
       "\n",
       "   capital-gain  capital-loss  hours-per-week  native-country prediction  \n",
       "0          2174             0              40   United-States      <=50K  \n",
       "1             0             0              13   United-States      <=50K  \n",
       "2             0             0              40   United-States      <=50K  \n",
       "3             0             0              40   United-States      <=50K  \n",
       "4             0             0              40            Cuba      <=50K  "
      ]
     },
     "execution_count": 4,
     "metadata": {},
     "output_type": "execute_result"
    }
   ],
   "source": [
    "adultdf.columns = ['age','workclass','fnlwgt','education','education-num',\n",
    "                   'marital-status','occupation','relationship','race','sex',\n",
    "                   'capital-gain','capital-loss','hours-per-week','native-country','prediction']\n",
    "adultdf.head()"
   ]
  },
  {
   "cell_type": "code",
   "execution_count": 57,
   "metadata": {},
   "outputs": [],
   "source": [
    "cols=['workclass','education','marital-status','occupation','relationship','race','sex','native-country','prediction']\n",
    "for i in cols:\n",
    "    adultdf[i]=adultdf[i].str.strip()"
   ]
  },
  {
   "cell_type": "code",
   "execution_count": 171,
   "metadata": {},
   "outputs": [
    {
     "name": "stdout",
     "output_type": "stream",
     "text": [
      "<class 'pandas.core.frame.DataFrame'>\n",
      "RangeIndex: 32561 entries, 0 to 32560\n",
      "Data columns (total 15 columns):\n",
      "age               32561 non-null int64\n",
      "workclass         32561 non-null object\n",
      "fnlwgt            32561 non-null int64\n",
      "education         32561 non-null object\n",
      "education-num     32561 non-null int64\n",
      "marital-status    32561 non-null object\n",
      "occupation        32561 non-null object\n",
      "relationship      32561 non-null object\n",
      "race              32561 non-null object\n",
      "sex               32561 non-null object\n",
      "capital-gain      32561 non-null int64\n",
      "capital-loss      32561 non-null int64\n",
      "hours-per-week    32561 non-null int64\n",
      "native-country    32561 non-null object\n",
      "prediction        32561 non-null object\n",
      "dtypes: int64(6), object(9)\n",
      "memory usage: 3.7+ MB\n"
     ]
    }
   ],
   "source": [
    "adultdf.info()"
   ]
  },
  {
   "cell_type": "code",
   "execution_count": 58,
   "metadata": {},
   "outputs": [
    {
     "data": {
      "text/html": [
       "<div>\n",
       "<style scoped>\n",
       "    .dataframe tbody tr th:only-of-type {\n",
       "        vertical-align: middle;\n",
       "    }\n",
       "\n",
       "    .dataframe tbody tr th {\n",
       "        vertical-align: top;\n",
       "    }\n",
       "\n",
       "    .dataframe thead th {\n",
       "        text-align: right;\n",
       "    }\n",
       "</style>\n",
       "<table border=\"1\" class=\"dataframe\">\n",
       "  <thead>\n",
       "    <tr style=\"text-align: right;\">\n",
       "      <th></th>\n",
       "      <th>age</th>\n",
       "      <th>workclass</th>\n",
       "      <th>fnlwgt</th>\n",
       "      <th>education</th>\n",
       "      <th>education-num</th>\n",
       "      <th>marital-status</th>\n",
       "      <th>occupation</th>\n",
       "      <th>relationship</th>\n",
       "      <th>race</th>\n",
       "      <th>sex</th>\n",
       "      <th>capital-gain</th>\n",
       "      <th>capital-loss</th>\n",
       "      <th>hours-per-week</th>\n",
       "      <th>native-country</th>\n",
       "      <th>prediction</th>\n",
       "    </tr>\n",
       "  </thead>\n",
       "  <tbody>\n",
       "    <tr>\n",
       "      <th>0</th>\n",
       "      <td>39</td>\n",
       "      <td>State-gov</td>\n",
       "      <td>77516</td>\n",
       "      <td>Bachelors</td>\n",
       "      <td>13</td>\n",
       "      <td>Never-married</td>\n",
       "      <td>Adm-clerical</td>\n",
       "      <td>Not-in-family</td>\n",
       "      <td>White</td>\n",
       "      <td>Male</td>\n",
       "      <td>2174</td>\n",
       "      <td>0</td>\n",
       "      <td>40</td>\n",
       "      <td>United-States</td>\n",
       "      <td>&lt;=50K</td>\n",
       "    </tr>\n",
       "    <tr>\n",
       "      <th>1</th>\n",
       "      <td>50</td>\n",
       "      <td>Self-emp-not-inc</td>\n",
       "      <td>83311</td>\n",
       "      <td>Bachelors</td>\n",
       "      <td>13</td>\n",
       "      <td>Married-civ-spouse</td>\n",
       "      <td>Exec-managerial</td>\n",
       "      <td>Husband</td>\n",
       "      <td>White</td>\n",
       "      <td>Male</td>\n",
       "      <td>0</td>\n",
       "      <td>0</td>\n",
       "      <td>13</td>\n",
       "      <td>United-States</td>\n",
       "      <td>&lt;=50K</td>\n",
       "    </tr>\n",
       "    <tr>\n",
       "      <th>2</th>\n",
       "      <td>38</td>\n",
       "      <td>Private</td>\n",
       "      <td>215646</td>\n",
       "      <td>HS-grad</td>\n",
       "      <td>9</td>\n",
       "      <td>Divorced</td>\n",
       "      <td>Handlers-cleaners</td>\n",
       "      <td>Not-in-family</td>\n",
       "      <td>White</td>\n",
       "      <td>Male</td>\n",
       "      <td>0</td>\n",
       "      <td>0</td>\n",
       "      <td>40</td>\n",
       "      <td>United-States</td>\n",
       "      <td>&lt;=50K</td>\n",
       "    </tr>\n",
       "    <tr>\n",
       "      <th>3</th>\n",
       "      <td>53</td>\n",
       "      <td>Private</td>\n",
       "      <td>234721</td>\n",
       "      <td>11th</td>\n",
       "      <td>7</td>\n",
       "      <td>Married-civ-spouse</td>\n",
       "      <td>Handlers-cleaners</td>\n",
       "      <td>Husband</td>\n",
       "      <td>Black</td>\n",
       "      <td>Male</td>\n",
       "      <td>0</td>\n",
       "      <td>0</td>\n",
       "      <td>40</td>\n",
       "      <td>United-States</td>\n",
       "      <td>&lt;=50K</td>\n",
       "    </tr>\n",
       "    <tr>\n",
       "      <th>4</th>\n",
       "      <td>28</td>\n",
       "      <td>Private</td>\n",
       "      <td>338409</td>\n",
       "      <td>Bachelors</td>\n",
       "      <td>13</td>\n",
       "      <td>Married-civ-spouse</td>\n",
       "      <td>Prof-specialty</td>\n",
       "      <td>Wife</td>\n",
       "      <td>Black</td>\n",
       "      <td>Female</td>\n",
       "      <td>0</td>\n",
       "      <td>0</td>\n",
       "      <td>40</td>\n",
       "      <td>Cuba</td>\n",
       "      <td>&lt;=50K</td>\n",
       "    </tr>\n",
       "  </tbody>\n",
       "</table>\n",
       "</div>"
      ],
      "text/plain": [
       "   age         workclass  fnlwgt  education  education-num  \\\n",
       "0   39         State-gov   77516  Bachelors             13   \n",
       "1   50  Self-emp-not-inc   83311  Bachelors             13   \n",
       "2   38           Private  215646    HS-grad              9   \n",
       "3   53           Private  234721       11th              7   \n",
       "4   28           Private  338409  Bachelors             13   \n",
       "\n",
       "       marital-status         occupation   relationship   race     sex  \\\n",
       "0       Never-married       Adm-clerical  Not-in-family  White    Male   \n",
       "1  Married-civ-spouse    Exec-managerial        Husband  White    Male   \n",
       "2            Divorced  Handlers-cleaners  Not-in-family  White    Male   \n",
       "3  Married-civ-spouse  Handlers-cleaners        Husband  Black    Male   \n",
       "4  Married-civ-spouse     Prof-specialty           Wife  Black  Female   \n",
       "\n",
       "   capital-gain  capital-loss  hours-per-week native-country prediction  \n",
       "0          2174             0              40  United-States      <=50K  \n",
       "1             0             0              13  United-States      <=50K  \n",
       "2             0             0              40  United-States      <=50K  \n",
       "3             0             0              40  United-States      <=50K  \n",
       "4             0             0              40           Cuba      <=50K  "
      ]
     },
     "execution_count": 58,
     "metadata": {},
     "output_type": "execute_result"
    }
   ],
   "source": [
    "pysqldf = lambda q: sqldf(q, globals())\n",
    "pysqldf(\"SELECT * from adultdf LIMIT 5;\")"
   ]
  },
  {
   "cell_type": "code",
   "execution_count": 60,
   "metadata": {},
   "outputs": [],
   "source": [
    "conn = db.connect('sqladb.db')\n",
    "cursor = conn.cursor()\n",
    "sql=\"\"\"\n",
    "        CREATE TABLE IF NOT EXISTS ADULT (\n",
    "        age INTEGER, workclass TEXT, fnlwgt INTEGER, education TEXT, 'education-num' INTEGER, 'marital-status' TEXT, occupation TEXT,\n",
    "        relationship TEXT,race TEXT, sex TEXT, 'capital-gain' INTEGER, 'capital-loss' INTEGER, 'hours-per-week' INTEGER,\n",
    "        'native-country' TEXT, prediction TEXT);\n",
    "        \"\"\"\n",
    "cursor.execute(sql)\n",
    "conn.commit()"
   ]
  },
  {
   "cell_type": "code",
   "execution_count": 61,
   "metadata": {},
   "outputs": [],
   "source": [
    "cursor.executemany('INSERT INTO ADULT VALUES (?,?,?,?,?,?,?,?,?,?,?,?,?,?,?)',\n",
    "                 zip(adultdf.iloc[:,0], adultdf.iloc[:,1], adultdf.iloc[:,2], adultdf.iloc[:,3], adultdf.iloc[:,4],\n",
    "                     adultdf.iloc[:,5], adultdf.iloc[:,6], adultdf.iloc[:,7], adultdf.iloc[:,8], adultdf.iloc[:,9],\n",
    "                     adultdf.iloc[:,10], adultdf.iloc[:,11], adultdf.iloc[:,12], adultdf.iloc[:,13], adultdf.iloc[:,14])\n",
    "                  )\n",
    "conn.commit()"
   ]
  },
  {
   "cell_type": "markdown",
   "metadata": {},
   "source": [
    "### 1.1 : Select 10 records from the adult sqladb"
   ]
  },
  {
   "cell_type": "code",
   "execution_count": 168,
   "metadata": {},
   "outputs": [
    {
     "data": {
      "text/plain": [
       "[(39,\n",
       "  'State-gov',\n",
       "  77516,\n",
       "  'Bachelors',\n",
       "  13,\n",
       "  'Never-married',\n",
       "  'Adm-clerical',\n",
       "  'Not-in-family',\n",
       "  'White',\n",
       "  'Male',\n",
       "  2174,\n",
       "  0,\n",
       "  40,\n",
       "  'United-States',\n",
       "  '<=50K',\n",
       "  None),\n",
       " (50,\n",
       "  'Self-emp-not-inc',\n",
       "  83311,\n",
       "  'Bachelors',\n",
       "  13,\n",
       "  'Married-civ-spouse',\n",
       "  'Exec-managerial',\n",
       "  'Husband',\n",
       "  'White',\n",
       "  'Male',\n",
       "  0,\n",
       "  0,\n",
       "  13,\n",
       "  'United-States',\n",
       "  '<=50K',\n",
       "  None),\n",
       " (38,\n",
       "  'Private',\n",
       "  215646,\n",
       "  'HS-grad',\n",
       "  9,\n",
       "  'Divorced',\n",
       "  'Handlers-cleaners',\n",
       "  'Not-in-family',\n",
       "  'White',\n",
       "  'Male',\n",
       "  0,\n",
       "  0,\n",
       "  40,\n",
       "  'United-States',\n",
       "  '<=50K',\n",
       "  None),\n",
       " (53,\n",
       "  'Private',\n",
       "  234721,\n",
       "  '11th',\n",
       "  7,\n",
       "  'Married-civ-spouse',\n",
       "  'Handlers-cleaners',\n",
       "  'Husband',\n",
       "  'Black',\n",
       "  'Male',\n",
       "  0,\n",
       "  0,\n",
       "  40,\n",
       "  'United-States',\n",
       "  '<=50K',\n",
       "  None),\n",
       " (28,\n",
       "  'Private',\n",
       "  338409,\n",
       "  'Bachelors',\n",
       "  13,\n",
       "  'Married-civ-spouse',\n",
       "  'Prof-specialty',\n",
       "  'Wife',\n",
       "  'Black',\n",
       "  'Female',\n",
       "  0,\n",
       "  0,\n",
       "  40,\n",
       "  'Cuba',\n",
       "  '<=50K',\n",
       "  None),\n",
       " (37,\n",
       "  'Private',\n",
       "  284582,\n",
       "  'Masters',\n",
       "  14,\n",
       "  'Married-civ-spouse',\n",
       "  'Exec-managerial',\n",
       "  'Wife',\n",
       "  'White',\n",
       "  'Female',\n",
       "  0,\n",
       "  0,\n",
       "  40,\n",
       "  'United-States',\n",
       "  '<=50K',\n",
       "  None),\n",
       " (49,\n",
       "  'Private',\n",
       "  160187,\n",
       "  '9th',\n",
       "  5,\n",
       "  'Married-spouse-absent',\n",
       "  'Other-service',\n",
       "  'Not-in-family',\n",
       "  'Black',\n",
       "  'Female',\n",
       "  0,\n",
       "  0,\n",
       "  16,\n",
       "  'Jamaica',\n",
       "  '<=50K',\n",
       "  None),\n",
       " (52,\n",
       "  'Self-emp-not-inc',\n",
       "  209642,\n",
       "  'HS-grad',\n",
       "  9,\n",
       "  'Married-civ-spouse',\n",
       "  'Exec-managerial',\n",
       "  'Husband',\n",
       "  'White',\n",
       "  'Male',\n",
       "  0,\n",
       "  0,\n",
       "  45,\n",
       "  'United-States',\n",
       "  '>50K',\n",
       "  None),\n",
       " (31,\n",
       "  'Private',\n",
       "  45781,\n",
       "  'Masters',\n",
       "  14,\n",
       "  'Never-married',\n",
       "  'Prof-specialty',\n",
       "  'Not-in-family',\n",
       "  'White',\n",
       "  'Female',\n",
       "  14084,\n",
       "  0,\n",
       "  50,\n",
       "  'United-States',\n",
       "  '>50K',\n",
       "  None),\n",
       " (42,\n",
       "  'Private',\n",
       "  159449,\n",
       "  'Bachelors',\n",
       "  13,\n",
       "  'Married-civ-spouse',\n",
       "  'Exec-managerial',\n",
       "  'Husband',\n",
       "  'White',\n",
       "  'Male',\n",
       "  5178,\n",
       "  0,\n",
       "  40,\n",
       "  'United-States',\n",
       "  '>50K',\n",
       "  None)]"
      ]
     },
     "execution_count": 168,
     "metadata": {},
     "output_type": "execute_result"
    }
   ],
   "source": [
    "cursor.execute('SELECT * FROM ADULT LIMIT 10;')\n",
    "cursor.fetchall()"
   ]
  },
  {
   "cell_type": "markdown",
   "metadata": {},
   "source": [
    "### 1.2 :  Show me the average hours per week of all men who are working in private sector "
   ]
  },
  {
   "cell_type": "code",
   "execution_count": 78,
   "metadata": {},
   "outputs": [
    {
     "data": {
      "text/plain": [
       "[(42.22122591006424,)]"
      ]
     },
     "execution_count": 78,
     "metadata": {},
     "output_type": "execute_result"
    }
   ],
   "source": [
    "cursor.execute(\"SELECT AVG(\\\"hours-per-week\\\") FROM ADULT where workclass = 'Private' and sex = 'Male';\")\n",
    "cursor.fetchall()"
   ]
  },
  {
   "cell_type": "markdown",
   "metadata": {},
   "source": [
    " ### 1.3 : Show me the frequency table for education, occupation and relationship, separately"
   ]
  },
  {
   "cell_type": "code",
   "execution_count": 79,
   "metadata": {},
   "outputs": [
    {
     "data": {
      "text/plain": [
       "[(933, '10th'),\n",
       " (1175, '11th'),\n",
       " (433, '12th'),\n",
       " (168, '1st-4th'),\n",
       " (333, '5th-6th'),\n",
       " (646, '7th-8th'),\n",
       " (514, '9th'),\n",
       " (1067, 'Assoc-acdm'),\n",
       " (1382, 'Assoc-voc'),\n",
       " (5355, 'Bachelors'),\n",
       " (413, 'Doctorate'),\n",
       " (10501, 'HS-grad'),\n",
       " (1723, 'Masters'),\n",
       " (51, 'Preschool'),\n",
       " (576, 'Prof-school'),\n",
       " (7291, 'Some-college')]"
      ]
     },
     "execution_count": 79,
     "metadata": {},
     "output_type": "execute_result"
    }
   ],
   "source": [
    "cursor.execute(\"SELECT count(education),education FROM ADULT group by education;\")\n",
    "cursor.fetchall()"
   ]
  },
  {
   "cell_type": "code",
   "execution_count": 80,
   "metadata": {},
   "outputs": [
    {
     "data": {
      "text/plain": [
       "[(1843, '?'),\n",
       " (3770, 'Adm-clerical'),\n",
       " (9, 'Armed-Forces'),\n",
       " (4099, 'Craft-repair'),\n",
       " (4066, 'Exec-managerial'),\n",
       " (994, 'Farming-fishing'),\n",
       " (1370, 'Handlers-cleaners'),\n",
       " (2002, 'Machine-op-inspct'),\n",
       " (3295, 'Other-service'),\n",
       " (149, 'Priv-house-serv'),\n",
       " (4140, 'Prof-specialty'),\n",
       " (649, 'Protective-serv'),\n",
       " (3650, 'Sales'),\n",
       " (928, 'Tech-support'),\n",
       " (1597, 'Transport-moving')]"
      ]
     },
     "execution_count": 80,
     "metadata": {},
     "output_type": "execute_result"
    }
   ],
   "source": [
    "cursor.execute(\"SELECT count(occupation),occupation FROM ADULT group by occupation;\")\n",
    "cursor.fetchall()"
   ]
  },
  {
   "cell_type": "code",
   "execution_count": 81,
   "metadata": {},
   "outputs": [
    {
     "data": {
      "text/plain": [
       "[(13193, 'Husband'),\n",
       " (8305, 'Not-in-family'),\n",
       " (981, 'Other-relative'),\n",
       " (5068, 'Own-child'),\n",
       " (3446, 'Unmarried'),\n",
       " (1568, 'Wife')]"
      ]
     },
     "execution_count": 81,
     "metadata": {},
     "output_type": "execute_result"
    }
   ],
   "source": [
    "cursor.execute(\"SELECT count(relationship),relationship FROM ADULT group by relationship;\")\n",
    "cursor.fetchall()"
   ]
  },
  {
   "cell_type": "markdown",
   "metadata": {},
   "source": [
    "### 1.4 : Are there any people who are married, working in private sector and having a masters degree "
   ]
  },
  {
   "cell_type": "code",
   "execution_count": 82,
   "metadata": {},
   "outputs": [
    {
     "data": {
      "text/plain": [
       "[(528,)]"
      ]
     },
     "execution_count": 82,
     "metadata": {},
     "output_type": "execute_result"
    }
   ],
   "source": [
    "cursor.execute(\"SELECT count(1) FROM ADULT where relationship in ('Husband','Wife') and workclass = 'Private' and education='Masters';\")\n",
    "cursor.fetchall()"
   ]
  },
  {
   "cell_type": "markdown",
   "metadata": {},
   "source": [
    "### 1.5 :  What is the average, minimum and maximum age group for people working in different sectors "
   ]
  },
  {
   "cell_type": "code",
   "execution_count": 154,
   "metadata": {},
   "outputs": [
    {
     "data": {
      "text/plain": [
       "[(40.960239651416124, 17, 90, '?'),\n",
       " (42.590625, 17, 90, 'Federal-gov'),\n",
       " (41.75107501194458, 17, 90, 'Local-gov'),\n",
       " (20.571428571428573, 17, 30, 'Never-worked'),\n",
       " (36.797585477617204, 17, 90, 'Private'),\n",
       " (46.01702508960574, 17, 84, 'Self-emp-inc'),\n",
       " (44.96969696969697, 17, 90, 'Self-emp-not-inc'),\n",
       " (39.43605546995377, 17, 81, 'State-gov'),\n",
       " (47.785714285714285, 19, 72, 'Without-pay')]"
      ]
     },
     "execution_count": 154,
     "metadata": {},
     "output_type": "execute_result"
    }
   ],
   "source": [
    "cursor.execute(\"SELECT avg(age),min(age),max(age),workclass FROM ADULT group by workclass ;\")\n",
    "cursor.fetchall()"
   ]
  },
  {
   "cell_type": "markdown",
   "metadata": {},
   "source": [
    "### 1.6 : Calculate age distribution by country"
   ]
  },
  {
   "cell_type": "code",
   "execution_count": 156,
   "metadata": {},
   "outputs": [
    {
     "data": {
      "text/plain": [
       "[(2, 17, '?'),\n",
       " (2, 17, 'Canada'),\n",
       " (2, 17, 'El-Salvador'),\n",
       " (1, 17, 'England'),\n",
       " (1, 17, 'Haiti'),\n",
       " (1, 17, 'India'),\n",
       " (6, 17, 'Mexico'),\n",
       " (2, 17, 'Peru'),\n",
       " (1, 17, 'Philippines'),\n",
       " (1, 17, 'Poland'),\n",
       " (1, 17, 'Puerto-Rico'),\n",
       " (1, 17, 'Trinadad&Tobago'),\n",
       " (374, 17, 'United-States'),\n",
       " (8, 18, '?'),\n",
       " (1, 18, 'Cambodia'),\n",
       " (1, 18, 'Canada'),\n",
       " (1, 18, 'Columbia'),\n",
       " (1, 18, 'Dominican-Republic'),\n",
       " (1, 18, 'Germany'),\n",
       " (1, 18, 'Honduras'),\n",
       " (1, 18, 'India'),\n",
       " (1, 18, 'Jamaica'),\n",
       " (6, 18, 'Mexico'),\n",
       " (1, 18, 'Peru'),\n",
       " (2, 18, 'Philippines'),\n",
       " (1, 18, 'Scotland'),\n",
       " (524, 18, 'United-States'),\n",
       " (5, 19, '?'),\n",
       " (1, 19, 'Canada'),\n",
       " (4, 19, 'El-Salvador'),\n",
       " (2, 19, 'England'),\n",
       " (3, 19, 'Guatemala'),\n",
       " (1, 19, 'Haiti'),\n",
       " (1, 19, 'Honduras'),\n",
       " (1, 19, 'Hong'),\n",
       " (1, 19, 'Italy'),\n",
       " (1, 19, 'Jamaica'),\n",
       " (2, 19, 'Japan'),\n",
       " (2, 19, 'Laos'),\n",
       " (14, 19, 'Mexico'),\n",
       " (2, 19, 'Nicaragua'),\n",
       " (2, 19, 'Philippines'),\n",
       " (1, 19, 'Portugal'),\n",
       " (3, 19, 'Puerto-Rico'),\n",
       " (3, 19, 'South'),\n",
       " (2, 19, 'Thailand'),\n",
       " (659, 19, 'United-States'),\n",
       " (2, 19, 'Vietnam'),\n",
       " (10, 20, '?'),\n",
       " (2, 20, 'Canada'),\n",
       " (5, 20, 'El-Salvador'),\n",
       " (1, 20, 'England'),\n",
       " (1, 20, 'France'),\n",
       " (5, 20, 'Germany'),\n",
       " (3, 20, 'Guatemala'),\n",
       " (1, 20, 'Haiti'),\n",
       " (1, 20, 'India'),\n",
       " (1, 20, 'Italy'),\n",
       " (18, 20, 'Mexico'),\n",
       " (4, 20, 'Nicaragua'),\n",
       " (1, 20, 'Peru'),\n",
       " (2, 20, 'Philippines'),\n",
       " (2, 20, 'Puerto-Rico'),\n",
       " (2, 20, 'South'),\n",
       " (1, 20, 'Taiwan'),\n",
       " (689, 20, 'United-States'),\n",
       " (3, 20, 'Vietnam'),\n",
       " (1, 20, 'Yugoslavia'),\n",
       " (11, 21, '?'),\n",
       " (3, 21, 'Columbia'),\n",
       " (2, 21, 'Cuba'),\n",
       " (3, 21, 'Dominican-Republic'),\n",
       " (1, 21, 'Ecuador'),\n",
       " (2, 21, 'El-Salvador'),\n",
       " (1, 21, 'England'),\n",
       " (3, 21, 'Germany'),\n",
       " (2, 21, 'Guatemala'),\n",
       " (1, 21, 'India'),\n",
       " (1, 21, 'Italy'),\n",
       " (3, 21, 'Jamaica'),\n",
       " (24, 21, 'Mexico'),\n",
       " (1, 21, 'Nicaragua'),\n",
       " (1, 21, 'Outlying-US(Guam-USVI-etc)'),\n",
       " (1, 21, 'Peru'),\n",
       " (1, 21, 'Philippines'),\n",
       " (1, 21, 'Poland'),\n",
       " (1, 21, 'Portugal'),\n",
       " (1, 21, 'Puerto-Rico'),\n",
       " (1, 21, 'South'),\n",
       " (1, 21, 'Taiwan'),\n",
       " (651, 21, 'United-States'),\n",
       " (3, 21, 'Vietnam'),\n",
       " (12, 22, '?'),\n",
       " (1, 22, 'Canada'),\n",
       " (1, 22, 'China'),\n",
       " (3, 22, 'Dominican-Republic'),\n",
       " (2, 22, 'El-Salvador'),\n",
       " (1, 22, 'England'),\n",
       " (4, 22, 'Germany'),\n",
       " (2, 22, 'Greece'),\n",
       " (3, 22, 'Guatemala'),\n",
       " (2, 22, 'Haiti'),\n",
       " (2, 22, 'India'),\n",
       " (2, 22, 'Iran'),\n",
       " (1, 22, 'Italy'),\n",
       " (3, 22, 'Jamaica'),\n",
       " (24, 22, 'Mexico'),\n",
       " (1, 22, 'Peru'),\n",
       " (4, 22, 'Philippines'),\n",
       " (1, 22, 'Portugal'),\n",
       " (1, 22, 'Puerto-Rico'),\n",
       " (5, 22, 'South'),\n",
       " (2, 22, 'Taiwan'),\n",
       " (1, 22, 'Thailand'),\n",
       " (683, 22, 'United-States'),\n",
       " (3, 22, 'Vietnam'),\n",
       " (1, 22, 'Yugoslavia'),\n",
       " (6, 23, '?'),\n",
       " (3, 23, 'Canada'),\n",
       " (2, 23, 'China'),\n",
       " (2, 23, 'Columbia'),\n",
       " (3, 23, 'Cuba'),\n",
       " (4, 23, 'Dominican-Republic'),\n",
       " (1, 23, 'Ecuador'),\n",
       " (6, 23, 'El-Salvador'),\n",
       " (2, 23, 'England'),\n",
       " (1, 23, 'Germany'),\n",
       " (1, 23, 'Greece'),\n",
       " (4, 23, 'Guatemala'),\n",
       " (2, 23, 'Haiti'),\n",
       " (1, 23, 'India'),\n",
       " (1, 23, 'Iran'),\n",
       " (2, 23, 'Ireland'),\n",
       " (2, 23, 'Jamaica'),\n",
       " (1, 23, 'Laos'),\n",
       " (32, 23, 'Mexico'),\n",
       " (1, 23, 'Outlying-US(Guam-USVI-etc)'),\n",
       " (1, 23, 'Peru'),\n",
       " (6, 23, 'Philippines'),\n",
       " (2, 23, 'Poland'),\n",
       " (1, 23, 'Portugal'),\n",
       " (5, 23, 'Puerto-Rico'),\n",
       " (3, 23, 'South'),\n",
       " (1, 23, 'Taiwan'),\n",
       " (771, 23, 'United-States'),\n",
       " (10, 23, 'Vietnam'),\n",
       " (14, 24, '?'),\n",
       " (3, 24, 'Canada'),\n",
       " (2, 24, 'China'),\n",
       " (3, 24, 'Dominican-Republic'),\n",
       " (2, 24, 'Ecuador'),\n",
       " (7, 24, 'El-Salvador'),\n",
       " (3, 24, 'England'),\n",
       " (1, 24, 'France'),\n",
       " (2, 24, 'Germany'),\n",
       " (1, 24, 'Greece'),\n",
       " (1, 24, 'Guatemala'),\n",
       " (2, 24, 'Haiti'),\n",
       " (1, 24, 'Hungary'),\n",
       " (2, 24, 'India'),\n",
       " (1, 24, 'Iran'),\n",
       " (1, 24, 'Italy'),\n",
       " (4, 24, 'Jamaica'),\n",
       " (1, 24, 'Japan'),\n",
       " (1, 24, 'Laos'),\n",
       " (25, 24, 'Mexico'),\n",
       " (1, 24, 'Peru'),\n",
       " (5, 24, 'Philippines'),\n",
       " (1, 24, 'Portugal'),\n",
       " (1, 24, 'Puerto-Rico'),\n",
       " (3, 24, 'South'),\n",
       " (2, 24, 'Taiwan'),\n",
       " (1, 24, 'Thailand'),\n",
       " (705, 24, 'United-States'),\n",
       " (2, 24, 'Vietnam'),\n",
       " (11, 25, '?'),\n",
       " (1, 25, 'Cambodia'),\n",
       " (5, 25, 'Canada'),\n",
       " (1, 25, 'China'),\n",
       " (4, 25, 'Columbia'),\n",
       " (1, 25, 'Cuba'),\n",
       " (2, 25, 'Dominican-Republic'),\n",
       " (1, 25, 'Ecuador'),\n",
       " (8, 25, 'El-Salvador'),\n",
       " (1, 25, 'England'),\n",
       " (6, 25, 'Guatemala'),\n",
       " (3, 25, 'India'),\n",
       " (2, 25, 'Italy'),\n",
       " (4, 25, 'Jamaica'),\n",
       " (1, 25, 'Japan'),\n",
       " (39, 25, 'Mexico'),\n",
       " (1, 25, 'Nicaragua'),\n",
       " (1, 25, 'Outlying-US(Guam-USVI-etc)'),\n",
       " (1, 25, 'Peru'),\n",
       " (3, 25, 'Philippines'),\n",
       " (3, 25, 'Poland'),\n",
       " (1, 25, 'Puerto-Rico'),\n",
       " (3, 25, 'Taiwan'),\n",
       " (734, 25, 'United-States'),\n",
       " (3, 25, 'Vietnam'),\n",
       " (1, 25, 'Yugoslavia'),\n",
       " (18, 26, '?'),\n",
       " (2, 26, 'Canada'),\n",
       " (3, 26, 'Columbia'),\n",
       " (3, 26, 'Dominican-Republic'),\n",
       " (3, 26, 'El-Salvador'),\n",
       " (1, 26, 'England'),\n",
       " (3, 26, 'Germany'),\n",
       " (2, 26, 'Guatemala'),\n",
       " (1, 26, 'Honduras'),\n",
       " (2, 26, 'Hong'),\n",
       " (1, 26, 'Hungary'),\n",
       " (3, 26, 'India'),\n",
       " (3, 26, 'Jamaica'),\n",
       " (2, 26, 'Japan'),\n",
       " (22, 26, 'Mexico'),\n",
       " (1, 26, 'Nicaragua'),\n",
       " (1, 26, 'Outlying-US(Guam-USVI-etc)'),\n",
       " (1, 26, 'Peru'),\n",
       " (6, 26, 'Philippines'),\n",
       " (2, 26, 'Poland'),\n",
       " (1, 26, 'Portugal'),\n",
       " (3, 26, 'Puerto-Rico'),\n",
       " (3, 26, 'South'),\n",
       " (2, 26, 'Taiwan'),\n",
       " (1, 26, 'Thailand'),\n",
       " (694, 26, 'United-States'),\n",
       " (1, 26, 'Vietnam'),\n",
       " (15, 27, '?'),\n",
       " (2, 27, 'Cambodia'),\n",
       " (2, 27, 'Canada'),\n",
       " (1, 27, 'China'),\n",
       " (1, 27, 'Cuba'),\n",
       " (4, 27, 'Dominican-Republic'),\n",
       " (1, 27, 'Ecuador'),\n",
       " (3, 27, 'El-Salvador'),\n",
       " (1, 27, 'England'),\n",
       " (1, 27, 'France'),\n",
       " (3, 27, 'Germany'),\n",
       " (1, 27, 'Greece'),\n",
       " (6, 27, 'Guatemala'),\n",
       " (2, 27, 'Hong'),\n",
       " (4, 27, 'India'),\n",
       " (2, 27, 'Ireland'),\n",
       " (4, 27, 'Jamaica'),\n",
       " (3, 27, 'Japan'),\n",
       " (2, 27, 'Laos'),\n",
       " (27, 27, 'Mexico'),\n",
       " (1, 27, 'Nicaragua'),\n",
       " (1, 27, 'Peru'),\n",
       " (11, 27, 'Philippines'),\n",
       " (2, 27, 'Poland'),\n",
       " (1, 27, 'Portugal'),\n",
       " (2, 27, 'Puerto-Rico'),\n",
       " (1, 27, 'Scotland'),\n",
       " (2, 27, 'South'),\n",
       " (1, 27, 'Taiwan'),\n",
       " (727, 27, 'United-States'),\n",
       " (1, 27, 'Vietnam'),\n",
       " (19, 28, '?'),\n",
       " (1, 28, 'Cambodia'),\n",
       " (3, 28, 'Canada'),\n",
       " (1, 28, 'China'),\n",
       " (2, 28, 'Columbia'),\n",
       " (3, 28, 'Cuba'),\n",
       " (2, 28, 'Dominican-Republic'),\n",
       " (2, 28, 'Ecuador'),\n",
       " (3, 28, 'El-Salvador'),\n",
       " (3, 28, 'England'),\n",
       " (2, 28, 'France'),\n",
       " (5, 28, 'Germany'),\n",
       " (2, 28, 'Guatemala'),\n",
       " (2, 28, 'Haiti'),\n",
       " (2, 28, 'Honduras'),\n",
       " (2, 28, 'Hong'),\n",
       " (1, 28, 'Hungary'),\n",
       " (3, 28, 'India'),\n",
       " (1, 28, 'Italy'),\n",
       " (5, 28, 'Jamaica'),\n",
       " (33, 28, 'Mexico'),\n",
       " (2, 28, 'Nicaragua'),\n",
       " (5, 28, 'Philippines'),\n",
       " (2, 28, 'Poland'),\n",
       " (2, 28, 'Portugal'),\n",
       " (4, 28, 'Puerto-Rico'),\n",
       " (1, 28, 'South'),\n",
       " (2, 28, 'Taiwan'),\n",
       " (1, 28, 'Trinadad&Tobago'),\n",
       " (751, 28, 'United-States'),\n",
       " (12, 29, '?'),\n",
       " (4, 29, 'Canada'),\n",
       " (1, 29, 'China'),\n",
       " (3, 29, 'Columbia'),\n",
       " (1, 29, 'Cuba'),\n",
       " (3, 29, 'Dominican-Republic'),\n",
       " (4, 29, 'Ecuador'),\n",
       " (4, 29, 'El-Salvador'),\n",
       " (2, 29, 'England'),\n",
       " (2, 29, 'France'),\n",
       " (8, 29, 'Germany'),\n",
       " (3, 29, 'Guatemala'),\n",
       " (2, 29, 'Haiti'),\n",
       " (1, 29, 'Hong'),\n",
       " (4, 29, 'India'),\n",
       " (1, 29, 'Iran'),\n",
       " (1, 29, 'Ireland'),\n",
       " (1, 29, 'Italy'),\n",
       " (2, 29, 'Jamaica'),\n",
       " (4, 29, 'Japan'),\n",
       " (2, 29, 'Laos'),\n",
       " (17, 29, 'Mexico'),\n",
       " (2, 29, 'Nicaragua'),\n",
       " (2, 29, 'Outlying-US(Guam-USVI-etc)'),\n",
       " (1, 29, 'Peru'),\n",
       " (6, 29, 'Philippines'),\n",
       " (1, 29, 'Poland'),\n",
       " (1, 29, 'Portugal'),\n",
       " (1, 29, 'Puerto-Rico'),\n",
       " (2, 29, 'Scotland'),\n",
       " (2, 29, 'South'),\n",
       " (4, 29, 'Taiwan'),\n",
       " (1, 29, 'Thailand'),\n",
       " (706, 29, 'United-States'),\n",
       " (1, 29, 'Vietnam'),\n",
       " (1, 29, 'Yugoslavia'),\n",
       " (19, 30, '?'),\n",
       " (3, 30, 'Canada'),\n",
       " (4, 30, 'China'),\n",
       " (1, 30, 'Cuba'),\n",
       " (1, 30, 'Dominican-Republic'),\n",
       " (1, 30, 'Ecuador'),\n",
       " (1, 30, 'El-Salvador'),\n",
       " (4, 30, 'England'),\n",
       " (1, 30, 'France'),\n",
       " (8, 30, 'Germany'),\n",
       " (2, 30, 'Guatemala'),\n",
       " (1, 30, 'Haiti'),\n",
       " (1, 30, 'Honduras'),\n",
       " (1, 30, 'Hong'),\n",
       " (1, 30, 'Hungary'),\n",
       " (5, 30, 'India'),\n",
       " (2, 30, 'Iran'),\n",
       " (4, 30, 'Ireland'),\n",
       " (1, 30, 'Jamaica'),\n",
       " (1, 30, 'Japan'),\n",
       " (1, 30, 'Laos'),\n",
       " (21, 30, 'Mexico'),\n",
       " (2, 30, 'Nicaragua'),\n",
       " (1, 30, 'Outlying-US(Guam-USVI-etc)'),\n",
       " (1, 30, 'Peru'),\n",
       " (2, 30, 'Philippines'),\n",
       " (2, 30, 'Poland'),\n",
       " (1, 30, 'Portugal'),\n",
       " (2, 30, 'Puerto-Rico'),\n",
       " (3, 30, 'South'),\n",
       " (5, 30, 'Taiwan'),\n",
       " (1, 30, 'Thailand'),\n",
       " (749, 30, 'United-States'),\n",
       " (8, 30, 'Vietnam'),\n",
       " (18, 31, '?'),\n",
       " (2, 31, 'Canada'),\n",
       " (2, 31, 'China'),\n",
       " (2, 31, 'Columbia'),\n",
       " (3, 31, 'Cuba'),\n",
       " (2, 31, 'El-Salvador'),\n",
       " (2, 31, 'England'),\n",
       " (1, 31, 'France'),\n",
       " (4, 31, 'Germany'),\n",
       " (2, 31, 'Honduras'),\n",
       " (5, 31, 'India'),\n",
       " (1, 31, 'Ireland'),\n",
       " (3, 31, 'Italy'),\n",
       " (3, 31, 'Jamaica'),\n",
       " (1, 31, 'Japan'),\n",
       " (33, 31, 'Mexico'),\n",
       " (3, 31, 'Philippines'),\n",
       " (1, 31, 'Poland'),\n",
       " (1, 31, 'Portugal'),\n",
       " (4, 31, 'Puerto-Rico'),\n",
       " (3, 31, 'South'),\n",
       " (2, 31, 'Taiwan'),\n",
       " (1, 31, 'Thailand'),\n",
       " (1, 31, 'Trinadad&Tobago'),\n",
       " (785, 31, 'United-States'),\n",
       " (2, 31, 'Vietnam'),\n",
       " (1, 31, 'Yugoslavia'),\n",
       " (17, 32, '?'),\n",
       " (1, 32, 'Cambodia'),\n",
       " (3, 32, 'Canada'),\n",
       " (2, 32, 'China'),\n",
       " (3, 32, 'Columbia'),\n",
       " (1, 32, 'Cuba'),\n",
       " (1, 32, 'Dominican-Republic'),\n",
       " (2, 32, 'Ecuador'),\n",
       " (1, 32, 'El-Salvador'),\n",
       " (3, 32, 'England'),\n",
       " (1, 32, 'France'),\n",
       " (3, 32, 'Germany'),\n",
       " (2, 32, 'Greece'),\n",
       " (1, 32, 'Guatemala'),\n",
       " (1, 32, 'Haiti'),\n",
       " (1, 32, 'Holand-Netherlands'),\n",
       " (1, 32, 'Hong'),\n",
       " (3, 32, 'India'),\n",
       " (3, 32, 'Iran'),\n",
       " (4, 32, 'Ireland'),\n",
       " (2, 32, 'Italy'),\n",
       " (3, 32, 'Jamaica'),\n",
       " (1, 32, 'Japan'),\n",
       " (1, 32, 'Laos'),\n",
       " (21, 32, 'Mexico'),\n",
       " (3, 32, 'Nicaragua'),\n",
       " (3, 32, 'Philippines'),\n",
       " (2, 32, 'Puerto-Rico'),\n",
       " (2, 32, 'South'),\n",
       " (1, 32, 'Taiwan'),\n",
       " (1, 32, 'Trinadad&Tobago'),\n",
       " (734, 32, 'United-States'),\n",
       " (13, 33, '?'),\n",
       " (4, 33, 'Canada'),\n",
       " (4, 33, 'China'),\n",
       " (2, 33, 'Columbia'),\n",
       " (4, 33, 'Cuba'),\n",
       " (1, 33, 'Ecuador'),\n",
       " (6, 33, 'El-Salvador'),\n",
       " (3, 33, 'England'),\n",
       " (2, 33, 'France'),\n",
       " (5, 33, 'Germany'),\n",
       " (2, 33, 'Guatemala'),\n",
       " (2, 33, 'Haiti'),\n",
       " (2, 33, 'Hong'),\n",
       " (3, 33, 'India'),\n",
       " (1, 33, 'Iran'),\n",
       " (1, 33, 'Italy'),\n",
       " (2, 33, 'Jamaica'),\n",
       " (4, 33, 'Japan'),\n",
       " (22, 33, 'Mexico'),\n",
       " (1, 33, 'Nicaragua'),\n",
       " (2, 33, 'Peru'),\n",
       " (6, 33, 'Philippines'),\n",
       " (1, 33, 'Portugal'),\n",
       " (2, 33, 'Puerto-Rico'),\n",
       " (2, 33, 'South'),\n",
       " (1, 33, 'Taiwan'),\n",
       " (2, 33, 'Thailand'),\n",
       " (1, 33, 'Trinadad&Tobago'),\n",
       " (773, 33, 'United-States'),\n",
       " (1, 33, 'Vietnam'),\n",
       " (24, 34, '?'),\n",
       " (1, 34, 'Cambodia'),\n",
       " (1, 34, 'Canada'),\n",
       " (4, 34, 'China'),\n",
       " (2, 34, 'Columbia'),\n",
       " (1, 34, 'Cuba'),\n",
       " (2, 34, 'Dominican-Republic'),\n",
       " (3, 34, 'El-Salvador'),\n",
       " (5, 34, 'England'),\n",
       " (3, 34, 'France'),\n",
       " (8, 34, 'Germany'),\n",
       " (3, 34, 'Guatemala'),\n",
       " (1, 34, 'Haiti'),\n",
       " (4, 34, 'India'),\n",
       " (2, 34, 'Iran'),\n",
       " (1, 34, 'Ireland'),\n",
       " (1, 34, 'Italy'),\n",
       " (4, 34, 'Jamaica'),\n",
       " (2, 34, 'Japan'),\n",
       " (12, 34, 'Mexico'),\n",
       " (1, 34, 'Nicaragua'),\n",
       " (1, 34, 'Peru'),\n",
       " (7, 34, 'Philippines'),\n",
       " (3, 34, 'Portugal'),\n",
       " (2, 34, 'Puerto-Rico'),\n",
       " (2, 34, 'South'),\n",
       " (2, 34, 'Taiwan'),\n",
       " (784, 34, 'United-States'),\n",
       " (18, 35, '?'),\n",
       " (1, 35, 'Cambodia'),\n",
       " (1, 35, 'Canada'),\n",
       " (2, 35, 'China'),\n",
       " (1, 35, 'Cuba'),\n",
       " (1, 35, 'Dominican-Republic'),\n",
       " (1, 35, 'Ecuador'),\n",
       " (5, 35, 'Germany'),\n",
       " (1, 35, 'Guatemala'),\n",
       " (1, 35, 'Haiti'),\n",
       " (1, 35, 'Hong'),\n",
       " (4, 35, 'India'),\n",
       " (2, 35, 'Iran'),\n",
       " (1, 35, 'Ireland'),\n",
       " (4, 35, 'Jamaica'),\n",
       " (2, 35, 'Japan'),\n",
       " (15, 35, 'Mexico'),\n",
       " (1, 35, 'Peru'),\n",
       " (8, 35, 'Philippines'),\n",
       " (2, 35, 'Poland'),\n",
       " (6, 35, 'Puerto-Rico'),\n",
       " (1, 35, 'South'),\n",
       " (3, 35, 'Taiwan'),\n",
       " (1, 35, 'Trinadad&Tobago'),\n",
       " (789, 35, 'United-States'),\n",
       " (2, 35, 'Vietnam'),\n",
       " (2, 35, 'Yugoslavia'),\n",
       " (23, 36, '?'),\n",
       " (1, 36, 'Cambodia'),\n",
       " (4, 36, 'Canada'),\n",
       " (3, 36, 'China'),\n",
       " (2, 36, 'Columbia'),\n",
       " (1, 36, 'Cuba'),\n",
       " (1, 36, 'Ecuador'),\n",
       " (3, 36, 'El-Salvador'),\n",
       " (2, 36, 'England'),\n",
       " (4, 36, 'Germany'),\n",
       " (1, 36, 'Guatemala'),\n",
       " (2, 36, 'Haiti'),\n",
       " (1, 36, 'Honduras'),\n",
       " (1, 36, 'Hong'),\n",
       " (3, 36, 'India'),\n",
       " (4, 36, 'Iran'),\n",
       " (2, 36, 'Italy'),\n",
       " (1, 36, 'Jamaica'),\n",
       " (3, 36, 'Japan'),\n",
       " (2, 36, 'Laos'),\n",
       " (18, 36, 'Mexico'),\n",
       " (1, 36, 'Nicaragua'),\n",
       " (3, 36, 'Philippines'),\n",
       " (2, 36, 'Puerto-Rico'),\n",
       " (4, 36, 'South'),\n",
       " (3, 36, 'Taiwan'),\n",
       " (801, 36, 'United-States'),\n",
       " (1, 36, 'Vietnam'),\n",
       " (1, 36, 'Yugoslavia'),\n",
       " (22, 37, '?'),\n",
       " (2, 37, 'Cambodia'),\n",
       " (4, 37, 'Canada'),\n",
       " (1, 37, 'China'),\n",
       " (5, 37, 'Cuba'),\n",
       " (1, 37, 'Ecuador'),\n",
       " (5, 37, 'El-Salvador'),\n",
       " (2, 37, 'England'),\n",
       " (2, 37, 'France'),\n",
       " (2, 37, 'Germany'),\n",
       " (2, 37, 'Guatemala'),\n",
       " (2, 37, 'Hong'),\n",
       " (2, 37, 'Iran'),\n",
       " (1, 37, 'Jamaica'),\n",
       " (3, 37, 'Japan'),\n",
       " (19, 37, 'Mexico'),\n",
       " (1, 37, 'Nicaragua'),\n",
       " (1, 37, 'Peru'),\n",
       " (8, 37, 'Philippines'),\n",
       " (2, 37, 'Portugal'),\n",
       " (4, 37, 'Puerto-Rico'),\n",
       " (2, 37, 'South'),\n",
       " (1, 37, 'Thailand'),\n",
       " (762, 37, 'United-States'),\n",
       " (2, 37, 'Vietnam'),\n",
       " (20, 38, '?'),\n",
       " (4, 38, 'Canada'),\n",
       " (2, 38, 'Columbia'),\n",
       " (4, 38, 'Cuba'),\n",
       " (1, 38, 'Dominican-Republic'),\n",
       " (1, 38, 'El-Salvador'),\n",
       " (2, 38, 'England'),\n",
       " (1, 38, 'Germany'),\n",
       " (1, 38, 'Guatemala'),\n",
       " (2, 38, 'Haiti'),\n",
       " (2, 38, 'India'),\n",
       " (3, 38, 'Iran'),\n",
       " (4, 38, 'Italy'),\n",
       " (1, 38, 'Jamaica'),\n",
       " (2, 38, 'Japan'),\n",
       " (15, 38, 'Mexico'),\n",
       " (1, 38, 'Nicaragua'),\n",
       " (7, 38, 'Philippines'),\n",
       " (4, 38, 'Poland'),\n",
       " (3, 38, 'Portugal'),\n",
       " (1, 38, 'Puerto-Rico'),\n",
       " (1, 38, 'Scotland'),\n",
       " (1, 38, 'Taiwan'),\n",
       " (2, 38, 'Trinadad&Tobago'),\n",
       " (741, 38, 'United-States'),\n",
       " (1, 38, 'Vietnam'),\n",
       " (19, 39, '?'),\n",
       " (1, 39, 'Canada'),\n",
       " (2, 39, 'China'),\n",
       " (2, 39, 'Columbia'),\n",
       " (3, 39, 'Cuba'),\n",
       " (4, 39, 'Dominican-Republic'),\n",
       " (2, 39, 'El-Salvador'),\n",
       " (2, 39, 'England'),\n",
       " (1, 39, 'France'),\n",
       " (3, 39, 'Germany'),\n",
       " (1, 39, 'India'),\n",
       " (1, 39, 'Iran'),\n",
       " (1, 39, 'Italy'),\n",
       " (2, 39, 'Jamaica'),\n",
       " (3, 39, 'Japan'),\n",
       " (12, 39, 'Mexico'),\n",
       " (1, 39, 'Nicaragua'),\n",
       " (14, 39, 'Philippines'),\n",
       " (5, 39, 'Poland'),\n",
       " (3, 39, 'Puerto-Rico'),\n",
       " (1, 39, 'South'),\n",
       " (733, 39, 'United-States'),\n",
       " (12, 40, '?'),\n",
       " (2, 40, 'Cambodia'),\n",
       " (4, 40, 'Canada'),\n",
       " (4, 40, 'China'),\n",
       " (3, 40, 'Cuba'),\n",
       " (3, 40, 'Dominican-Republic'),\n",
       " (2, 40, 'El-Salvador'),\n",
       " (3, 40, 'England'),\n",
       " (1, 40, 'Germany'),\n",
       " (1, 40, 'Greece'),\n",
       " (1, 40, 'Guatemala'),\n",
       " (1, 40, 'Haiti'),\n",
       " (1, 40, 'Hong'),\n",
       " (1, 40, 'India'),\n",
       " (2, 40, 'Iran'),\n",
       " (2, 40, 'Ireland'),\n",
       " (2, 40, 'Jamaica'),\n",
       " (2, 40, 'Japan'),\n",
       " (11, 40, 'Mexico'),\n",
       " (3, 40, 'Philippines'),\n",
       " (1, 40, 'Poland'),\n",
       " (5, 40, 'Puerto-Rico'),\n",
       " (1, 40, 'Scotland'),\n",
       " (1, 40, 'South'),\n",
       " (1, 40, 'Taiwan'),\n",
       " (1, 40, 'Trinadad&Tobago'),\n",
       " (721, 40, 'United-States'),\n",
       " (1, 40, 'Vietnam'),\n",
       " (1, 40, 'Yugoslavia'),\n",
       " (22, 41, '?'),\n",
       " (3, 41, 'Canada'),\n",
       " (3, 41, 'China'),\n",
       " (1, 41, 'Columbia'),\n",
       " (3, 41, 'Cuba'),\n",
       " (2, 41, 'Dominican-Republic'),\n",
       " (2, 41, 'El-Salvador'),\n",
       " (2, 41, 'England'),\n",
       " (2, 41, 'Germany'),\n",
       " (4, 41, 'Guatemala'),\n",
       " (1, 41, 'Haiti'),\n",
       " (1, 41, 'Honduras'),\n",
       " (1, 41, 'Hong'),\n",
       " (3, 41, 'India'),\n",
       " (2, 41, 'Iran'),\n",
       " (2, 41, 'Italy'),\n",
       " (2, 41, 'Jamaica'),\n",
       " (5, 41, 'Japan'),\n",
       " (20, 41, 'Mexico'),\n",
       " (1, 41, 'Nicaragua'),\n",
       " (1, 41, 'Outlying-US(Guam-USVI-etc)'),\n",
       " (5, 41, 'Peru'),\n",
       " (4, 41, 'Philippines'),\n",
       " (2, 41, 'Poland'),\n",
       " (2, 41, 'Puerto-Rico'),\n",
       " (4, 41, 'Taiwan'),\n",
       " (705, 41, 'United-States'),\n",
       " (1, 41, 'Vietnam'),\n",
       " (2, 41, 'Yugoslavia'),\n",
       " (24, 42, '?'),\n",
       " (1, 42, 'Cambodia'),\n",
       " (1, 42, 'Canada'),\n",
       " (1, 42, 'Cuba'),\n",
       " (1, 42, 'Dominican-Republic'),\n",
       " (2, 42, 'Ecuador'),\n",
       " (5, 42, 'El-Salvador'),\n",
       " (2, 42, 'England'),\n",
       " (1, 42, 'France'),\n",
       " (1, 42, 'Germany'),\n",
       " (2, 42, 'Haiti'),\n",
       " (3, 42, 'India'),\n",
       " (1, 42, 'Iran'),\n",
       " (3, 42, 'Italy'),\n",
       " (1, 42, 'Jamaica'),\n",
       " (1, 42, 'Laos'),\n",
       " (7, 42, 'Mexico'),\n",
       " (1, 42, 'Nicaragua'),\n",
       " (4, 42, 'Philippines'),\n",
       " (2, 42, 'Poland'),\n",
       " (8, 42, 'Puerto-Rico'),\n",
       " (1, 42, 'Scotland'),\n",
       " (2, 42, 'South'),\n",
       " (3, 42, 'Taiwan'),\n",
       " (1, 42, 'Trinadad&Tobago'),\n",
       " (701, 42, 'United-States'),\n",
       " (14, 43, '?'),\n",
       " (1, 43, 'Canada'),\n",
       " (2, 43, 'China'),\n",
       " (1, 43, 'Columbia'),\n",
       " (2, 43, 'Cuba'),\n",
       " (1, 43, 'Dominican-Republic'),\n",
       " (2, 43, 'England'),\n",
       " (1, 43, 'France'),\n",
       " (4, 43, 'Germany'),\n",
       " (1, 43, 'Greece'),\n",
       " (2, 43, 'Haiti'),\n",
       " (3, 43, 'India'),\n",
       " (1, 43, 'Iran'),\n",
       " (1, 43, 'Italy'),\n",
       " (1, 43, 'Jamaica'),\n",
       " (1, 43, 'Japan'),\n",
       " (16, 43, 'Mexico'),\n",
       " (2, 43, 'Nicaragua'),\n",
       " (1, 43, 'Outlying-US(Guam-USVI-etc)'),\n",
       " (3, 43, 'Philippines'),\n",
       " (3, 43, 'Poland'),\n",
       " (2, 43, 'Portugal'),\n",
       " (1, 43, 'Puerto-Rico'),\n",
       " (3, 43, 'South'),\n",
       " (2, 43, 'Thailand'),\n",
       " (1, 43, 'Trinadad&Tobago'),\n",
       " (695, 43, 'United-States'),\n",
       " (2, 43, 'Vietnam'),\n",
       " (1, 43, 'Yugoslavia'),\n",
       " (10, 44, '?'),\n",
       " (2, 44, 'Canada'),\n",
       " (1, 44, 'China'),\n",
       " (2, 44, 'Cuba'),\n",
       " (3, 44, 'Dominican-Republic'),\n",
       " (1, 44, 'Ecuador'),\n",
       " (1, 44, 'El-Salvador'),\n",
       " (4, 44, 'England'),\n",
       " (1, 44, 'Germany'),\n",
       " (1, 44, 'Greece'),\n",
       " (2, 44, 'Haiti'),\n",
       " (1, 44, 'India'),\n",
       " (1, 44, 'Iran'),\n",
       " (2, 44, 'Italy'),\n",
       " (3, 44, 'Jamaica'),\n",
       " (2, 44, 'Japan'),\n",
       " (1, 44, 'Laos'),\n",
       " (10, 44, 'Mexico'),\n",
       " (1, 44, 'Nicaragua'),\n",
       " (1, 44, 'Peru'),\n",
       " (3, 44, 'Philippines'),\n",
       " (3, 44, 'Poland'),\n",
       " (1, 44, 'Portugal'),\n",
       " (4, 44, 'Puerto-Rico'),\n",
       " (1, 44, 'South'),\n",
       " (1, 44, 'Taiwan'),\n",
       " (658, 44, 'United-States'),\n",
       " (3, 44, 'Vietnam'),\n",
       " (17, 45, '?'),\n",
       " (6, 45, 'Canada'),\n",
       " (5, 45, 'China'),\n",
       " (2, 45, 'Columbia'),\n",
       " (1, 45, 'Cuba'),\n",
       " (1, 45, 'Dominican-Republic'),\n",
       " (1, 45, 'El-Salvador'),\n",
       " (4, 45, 'England'),\n",
       " (1, 45, 'France'),\n",
       " (5, 45, 'Germany'),\n",
       " (1, 45, 'Guatemala'),\n",
       " (1, 45, 'Haiti'),\n",
       " (4, 45, 'India'),\n",
       " (1, 45, 'Iran'),\n",
       " (3, 45, 'Japan'),\n",
       " (9, 45, 'Mexico'),\n",
       " (7, 45, 'Philippines'),\n",
       " (1, 45, 'Poland'),\n",
       " (1, 45, 'Puerto-Rico'),\n",
       " (3, 45, 'South'),\n",
       " (1, 45, 'Thailand'),\n",
       " (2, 45, 'Trinadad&Tobago'),\n",
       " (653, 45, 'United-States'),\n",
       " (3, 45, 'Vietnam'),\n",
       " (1, 45, 'Yugoslavia'),\n",
       " (15, 46, '?'),\n",
       " (1, 46, 'Cambodia'),\n",
       " (2, 46, 'Canada'),\n",
       " (2, 46, 'China'),\n",
       " (1, 46, 'Columbia'),\n",
       " (2, 46, 'Cuba'),\n",
       " (2, 46, 'Dominican-Republic'),\n",
       " (2, 46, 'Ecuador'),\n",
       " (1, 46, 'El-Salvador'),\n",
       " (2, 46, 'England'),\n",
       " (6, 46, 'Germany'),\n",
       " (1, 46, 'Greece'),\n",
       " (4, 46, 'Guatemala'),\n",
       " (3, 46, 'India'),\n",
       " (1, 46, 'Ireland'),\n",
       " (1, 46, 'Italy'),\n",
       " (1, 46, 'Jamaica'),\n",
       " (1, 46, 'Japan'),\n",
       " (10, 46, 'Mexico'),\n",
       " (1, 46, 'Peru'),\n",
       " (7, 46, 'Philippines'),\n",
       " (1, 46, 'Portugal'),\n",
       " (2, 46, 'Puerto-Rico'),\n",
       " (1, 46, 'South'),\n",
       " (1, 46, 'Thailand'),\n",
       " (1, 46, 'Trinadad&Tobago'),\n",
       " (664, 46, 'United-States'),\n",
       " (1, 46, 'Vietnam'),\n",
       " (12, 47, '?'),\n",
       " (2, 47, 'Canada'),\n",
       " (6, 47, 'Cuba'),\n",
       " (1, 47, 'Dominican-Republic'),\n",
       " (4, 47, 'El-Salvador'),\n",
       " (1, 47, 'England'),\n",
       " (1, 47, 'France'),\n",
       " (5, 47, 'Germany'),\n",
       " (2, 47, 'Honduras'),\n",
       " (1, 47, 'Hungary'),\n",
       " (2, 47, 'India'),\n",
       " (3, 47, 'Iran'),\n",
       " (4, 47, 'Italy'),\n",
       " (1, 47, 'Jamaica'),\n",
       " (4, 47, 'Japan'),\n",
       " (10, 47, 'Mexico'),\n",
       " (2, 47, 'Outlying-US(Guam-USVI-etc)'),\n",
       " (2, 47, 'Philippines'),\n",
       " (1, 47, 'Portugal'),\n",
       " (8, 47, 'Puerto-Rico'),\n",
       " (1, 47, 'Scotland'),\n",
       " (1, 47, 'South'),\n",
       " (1, 47, 'Taiwan'),\n",
       " (2, 47, 'Thailand'),\n",
       " (631, 47, 'United-States'),\n",
       " (5, 48, '?'),\n",
       " (1, 48, 'Cambodia'),\n",
       " (1, 48, 'Canada'),\n",
       " (3, 48, 'China'),\n",
       " (1, 48, 'Columbia'),\n",
       " (1, 48, 'Cuba'),\n",
       " (3, 48, 'Dominican-Republic'),\n",
       " (1, 48, 'Ecuador'),\n",
       " (2, 48, 'El-Salvador'),\n",
       " (3, 48, 'England'),\n",
       " (3, 48, 'Germany'),\n",
       " (1, 48, 'Greece'),\n",
       " (1, 48, 'Haiti'),\n",
       " (4, 48, 'India'),\n",
       " (1, 48, 'Ireland'),\n",
       " (3, 48, 'Italy'),\n",
       " (2, 48, 'Jamaica'),\n",
       " (2, 48, 'Japan'),\n",
       " (7, 48, 'Mexico'),\n",
       " (1, 48, 'Nicaragua'),\n",
       " (2, 48, 'Peru'),\n",
       " (5, 48, 'Philippines'),\n",
       " (1, 48, 'Poland'),\n",
       " (1, 48, 'Portugal'),\n",
       " (1, 48, 'Puerto-Rico'),\n",
       " (2, 48, 'South'),\n",
       " (1, 48, 'Trinadad&Tobago'),\n",
       " (483, 48, 'United-States'),\n",
       " (1, 48, 'Vietnam'),\n",
       " (4, 49, '?'),\n",
       " (2, 49, 'Canada'),\n",
       " (1, 49, 'China'),\n",
       " (6, 49, 'Columbia'),\n",
       " (1, 49, 'Cuba'),\n",
       " (1, 49, 'England'),\n",
       " (1, 49, 'France'),\n",
       " (1, 49, 'Germany'),\n",
       " (3, 49, 'Greece'),\n",
       " (1, 49, 'Hong'),\n",
       " (1, 49, 'Hungary'),\n",
       " (2, 49, 'India'),\n",
       " (2, 49, 'Italy'),\n",
       " (1, 49, 'Jamaica'),\n",
       " (1, 49, 'Laos'),\n",
       " (3, 49, 'Mexico'),\n",
       " (2, 49, 'Peru'),\n",
       " (4, 49, 'Philippines'),\n",
       " (1, 49, 'Poland'),\n",
       " (2, 49, 'Portugal'),\n",
       " (3, 49, 'Puerto-Rico'),\n",
       " (1, 49, 'Scotland'),\n",
       " (2, 49, 'South'),\n",
       " (531, 49, 'United-States'),\n",
       " (13, 50, '?'),\n",
       " (1, 50, 'Cambodia'),\n",
       " (3, 50, 'Canada'),\n",
       " (1, 50, 'China'),\n",
       " (1, 50, 'Columbia'),\n",
       " (2, 50, 'Cuba'),\n",
       " (2, 50, 'Dominican-Republic'),\n",
       " (1, 50, 'Ecuador'),\n",
       " (3, 50, 'El-Salvador'),\n",
       " (1, 50, 'England'),\n",
       " (2, 50, 'Germany'),\n",
       " (1, 50, 'India'),\n",
       " (1, 50, 'Ireland'),\n",
       " (2, 50, 'Italy'),\n",
       " (1, 50, 'Jamaica'),\n",
       " (1, 50, 'Japan'),\n",
       " (1, 50, 'Laos'),\n",
       " (4, 50, 'Mexico'),\n",
       " (8, 50, 'Philippines'),\n",
       " (1, 50, 'Poland'),\n",
       " (3, 50, 'Puerto-Rico'),\n",
       " (4, 50, 'South'),\n",
       " (1, 50, 'Trinadad&Tobago'),\n",
       " (543, 50, 'United-States'),\n",
       " (1, 50, 'Vietnam'),\n",
       " (7, 51, '?'),\n",
       " (1, 51, 'Cambodia'),\n",
       " (4, 51, 'Canada'),\n",
       " (1, 51, 'China'),\n",
       " (1, 51, 'Columbia'),\n",
       " (1, 51, 'Cuba'),\n",
       " (1, 51, 'Dominican-Republic'),\n",
       " (2, 51, 'El-Salvador'),\n",
       " (1, 51, 'England'),\n",
       " (1, 51, 'France'),\n",
       " (2, 51, 'Germany'),\n",
       " (1, 51, 'Greece'),\n",
       " (2, 51, 'Haiti'),\n",
       " (2, 51, 'India'),\n",
       " (1, 51, 'Iran'),\n",
       " (1, 51, 'Ireland'),\n",
       " (1, 51, 'Italy'),\n",
       " (2, 51, 'Jamaica'),\n",
       " (7, 51, 'Mexico'),\n",
       " (1, 51, 'Philippines'),\n",
       " (1, 51, 'Portugal'),\n",
       " (1, 51, 'Puerto-Rico'),\n",
       " (1, 51, 'Scotland'),\n",
       " (1, 51, 'South'),\n",
       " (1, 51, 'Taiwan'),\n",
       " (549, 51, 'United-States'),\n",
       " (1, 51, 'Vietnam'),\n",
       " (9, 52, '?'),\n",
       " (3, 52, 'Canada'),\n",
       " (2, 52, 'China'),\n",
       " (1, 52, 'Columbia'),\n",
       " (6, 52, 'Cuba'),\n",
       " (1, 52, 'Dominican-Republic'),\n",
       " (4, 52, 'El-Salvador'),\n",
       " (1, 52, 'England'),\n",
       " (3, 52, 'Germany'),\n",
       " (1, 52, 'Greece'),\n",
       " (1, 52, 'Haiti'),\n",
       " (1, 52, 'India'),\n",
       " (1, 52, 'Iran'),\n",
       " (1, 52, 'Japan'),\n",
       " (8, 52, 'Mexico'),\n",
       " (2, 52, 'Philippines'),\n",
       " (1, 52, 'Poland'),\n",
       " (2, 52, 'Puerto-Rico'),\n",
       " (429, 52, 'United-States'),\n",
       " (1, 52, 'Vietnam'),\n",
       " (4, 53, '?'),\n",
       " (4, 53, 'Canada'),\n",
       " (2, 53, 'China'),\n",
       " (1, 53, 'Columbia'),\n",
       " (3, 53, 'Cuba'),\n",
       " (4, 53, 'Dominican-Republic'),\n",
       " (1, 53, 'El-Salvador'),\n",
       " (1, 53, 'France'),\n",
       " (2, 53, 'Germany'),\n",
       " (3, 53, 'Greece'),\n",
       " (1, 53, 'Guatemala'),\n",
       " (2, 53, 'Haiti'),\n",
       " (2, 53, 'India'),\n",
       " (5, 53, 'Italy'),\n",
       " (2, 53, 'Jamaica'),\n",
       " (2, 53, 'Japan'),\n",
       " (1, 53, 'Laos'),\n",
       " (7, 53, 'Mexico'),\n",
       " (2, 53, 'Philippines'),\n",
       " (1, 53, 'Poland'),\n",
       " (3, 53, 'Puerto-Rico'),\n",
       " (1, 53, 'Scotland'),\n",
       " (1, 53, 'South'),\n",
       " (408, 53, 'United-States'),\n",
       " (1, 53, 'Vietnam'),\n",
       " (5, 54, '?'),\n",
       " (1, 54, 'Canada'),\n",
       " (2, 54, 'China'),\n",
       " (1, 54, 'Columbia'),\n",
       " (2, 54, 'Cuba'),\n",
       " (2, 54, 'England'),\n",
       " (2, 54, 'Germany'),\n",
       " (1, 54, 'Greece'),\n",
       " (1, 54, 'Guatemala'),\n",
       " (3, 54, 'Haiti'),\n",
       " (1, 54, 'Hungary'),\n",
       " (3, 54, 'India'),\n",
       " (2, 54, 'Italy'),\n",
       " (2, 54, 'Jamaica'),\n",
       " (1, 54, 'Japan'),\n",
       " (8, 54, 'Mexico'),\n",
       " (2, 54, 'Philippines'),\n",
       " (1, 54, 'Poland'),\n",
       " (2, 54, 'Puerto-Rico'),\n",
       " (2, 54, 'South'),\n",
       " (370, 54, 'United-States'),\n",
       " (1, 54, 'Vietnam'),\n",
       " (12, 55, '?'),\n",
       " (1, 55, 'Canada'),\n",
       " (1, 55, 'Cuba'),\n",
       " (3, 55, 'England'),\n",
       " ...]"
      ]
     },
     "execution_count": 156,
     "metadata": {},
     "output_type": "execute_result"
    }
   ],
   "source": [
    "cursor.execute(\"SELECT count(age),age,\\\"native-country\\\" FROM ADULT group by age,\\\"native-country\\\";\")\n",
    "cursor.fetchall()"
   ]
  },
  {
   "cell_type": "markdown",
   "metadata": {},
   "source": [
    "### 1.7 : Compute a new column as 'Net-Capital-Gain' from the two columns 'capital-gain' and 'capital-loss' "
   ]
  },
  {
   "cell_type": "code",
   "execution_count": 167,
   "metadata": {},
   "outputs": [
    {
     "data": {
      "text/plain": [
       "[(2174,),\n",
       " (0,),\n",
       " (0,),\n",
       " (0,),\n",
       " (0,),\n",
       " (0,),\n",
       " (0,),\n",
       " (0,),\n",
       " (14084,),\n",
       " (5178,),\n",
       " (0,),\n",
       " (0,),\n",
       " (0,),\n",
       " (0,),\n",
       " (0,)]"
      ]
     },
     "execution_count": 167,
     "metadata": {},
     "output_type": "execute_result"
    }
   ],
   "source": [
    "cursor.execute(\"SELECT (\\\"capital-gain\\\" - \\\"capital-loss\\\") AS \\\"Net-Capital-Gain\\\" FROM ADULT LIMIT 15;\")\n",
    "cursor.fetchall()"
   ]
  },
  {
   "cell_type": "markdown",
   "metadata": {},
   "source": [
    "## Task 2 :  SQLALchemy\n",
    "### Read the following data set: https://archive.ics.uci.edu/ml/machine-learning-databases/adult/adult.data"
   ]
  },
  {
   "cell_type": "code",
   "execution_count": 205,
   "metadata": {},
   "outputs": [
    {
     "data": {
      "text/html": [
       "<div>\n",
       "<style scoped>\n",
       "    .dataframe tbody tr th:only-of-type {\n",
       "        vertical-align: middle;\n",
       "    }\n",
       "\n",
       "    .dataframe tbody tr th {\n",
       "        vertical-align: top;\n",
       "    }\n",
       "\n",
       "    .dataframe thead th {\n",
       "        text-align: right;\n",
       "    }\n",
       "</style>\n",
       "<table border=\"1\" class=\"dataframe\">\n",
       "  <thead>\n",
       "    <tr style=\"text-align: right;\">\n",
       "      <th></th>\n",
       "      <th>age</th>\n",
       "      <th>workclass</th>\n",
       "      <th>fnlwgt</th>\n",
       "      <th>education</th>\n",
       "      <th>education_num</th>\n",
       "      <th>martial_status</th>\n",
       "      <th>occupation</th>\n",
       "      <th>relationship</th>\n",
       "      <th>race</th>\n",
       "      <th>sex</th>\n",
       "      <th>capital_gain</th>\n",
       "      <th>capital_loss</th>\n",
       "      <th>hours_per_week</th>\n",
       "      <th>native_country</th>\n",
       "      <th>prediction</th>\n",
       "    </tr>\n",
       "  </thead>\n",
       "  <tbody>\n",
       "    <tr>\n",
       "      <th>0</th>\n",
       "      <td>39</td>\n",
       "      <td>State-gov</td>\n",
       "      <td>77516</td>\n",
       "      <td>Bachelors</td>\n",
       "      <td>13</td>\n",
       "      <td>Never-married</td>\n",
       "      <td>Adm-clerical</td>\n",
       "      <td>Not-in-family</td>\n",
       "      <td>White</td>\n",
       "      <td>Male</td>\n",
       "      <td>2174</td>\n",
       "      <td>0</td>\n",
       "      <td>40</td>\n",
       "      <td>United-States</td>\n",
       "      <td>&lt;=50K</td>\n",
       "    </tr>\n",
       "    <tr>\n",
       "      <th>1</th>\n",
       "      <td>50</td>\n",
       "      <td>Self-emp-not-inc</td>\n",
       "      <td>83311</td>\n",
       "      <td>Bachelors</td>\n",
       "      <td>13</td>\n",
       "      <td>Married-civ-spouse</td>\n",
       "      <td>Exec-managerial</td>\n",
       "      <td>Husband</td>\n",
       "      <td>White</td>\n",
       "      <td>Male</td>\n",
       "      <td>0</td>\n",
       "      <td>0</td>\n",
       "      <td>13</td>\n",
       "      <td>United-States</td>\n",
       "      <td>&lt;=50K</td>\n",
       "    </tr>\n",
       "    <tr>\n",
       "      <th>2</th>\n",
       "      <td>38</td>\n",
       "      <td>Private</td>\n",
       "      <td>215646</td>\n",
       "      <td>HS-grad</td>\n",
       "      <td>9</td>\n",
       "      <td>Divorced</td>\n",
       "      <td>Handlers-cleaners</td>\n",
       "      <td>Not-in-family</td>\n",
       "      <td>White</td>\n",
       "      <td>Male</td>\n",
       "      <td>0</td>\n",
       "      <td>0</td>\n",
       "      <td>40</td>\n",
       "      <td>United-States</td>\n",
       "      <td>&lt;=50K</td>\n",
       "    </tr>\n",
       "    <tr>\n",
       "      <th>3</th>\n",
       "      <td>53</td>\n",
       "      <td>Private</td>\n",
       "      <td>234721</td>\n",
       "      <td>11th</td>\n",
       "      <td>7</td>\n",
       "      <td>Married-civ-spouse</td>\n",
       "      <td>Handlers-cleaners</td>\n",
       "      <td>Husband</td>\n",
       "      <td>Black</td>\n",
       "      <td>Male</td>\n",
       "      <td>0</td>\n",
       "      <td>0</td>\n",
       "      <td>40</td>\n",
       "      <td>United-States</td>\n",
       "      <td>&lt;=50K</td>\n",
       "    </tr>\n",
       "    <tr>\n",
       "      <th>4</th>\n",
       "      <td>28</td>\n",
       "      <td>Private</td>\n",
       "      <td>338409</td>\n",
       "      <td>Bachelors</td>\n",
       "      <td>13</td>\n",
       "      <td>Married-civ-spouse</td>\n",
       "      <td>Prof-specialty</td>\n",
       "      <td>Wife</td>\n",
       "      <td>Black</td>\n",
       "      <td>Female</td>\n",
       "      <td>0</td>\n",
       "      <td>0</td>\n",
       "      <td>40</td>\n",
       "      <td>Cuba</td>\n",
       "      <td>&lt;=50K</td>\n",
       "    </tr>\n",
       "  </tbody>\n",
       "</table>\n",
       "</div>"
      ],
      "text/plain": [
       "   age          workclass  fnlwgt   education  education_num  \\\n",
       "0   39          State-gov   77516   Bachelors             13   \n",
       "1   50   Self-emp-not-inc   83311   Bachelors             13   \n",
       "2   38            Private  215646     HS-grad              9   \n",
       "3   53            Private  234721        11th              7   \n",
       "4   28            Private  338409   Bachelors             13   \n",
       "\n",
       "        martial_status          occupation    relationship    race      sex  \\\n",
       "0        Never-married        Adm-clerical   Not-in-family   White     Male   \n",
       "1   Married-civ-spouse     Exec-managerial         Husband   White     Male   \n",
       "2             Divorced   Handlers-cleaners   Not-in-family   White     Male   \n",
       "3   Married-civ-spouse   Handlers-cleaners         Husband   Black     Male   \n",
       "4   Married-civ-spouse      Prof-specialty            Wife   Black   Female   \n",
       "\n",
       "   capital_gain  capital_loss  hours_per_week  native_country prediction  \n",
       "0          2174             0              40   United-States      <=50K  \n",
       "1             0             0              13   United-States      <=50K  \n",
       "2             0             0              40   United-States      <=50K  \n",
       "3             0             0              40   United-States      <=50K  \n",
       "4             0             0              40            Cuba      <=50K  "
      ]
     },
     "execution_count": 205,
     "metadata": {},
     "output_type": "execute_result"
    }
   ],
   "source": [
    "import pandas as pd\n",
    "addf=pd.read_csv(\"https://archive.ics.uci.edu/ml/machine-learning-databases/adult/adult.data\",header=None)\n",
    "addf.columns = ['age','workclass','fnlwgt','education','education_num',\n",
    "                   'martial_status','occupation','relationship','race','sex',\n",
    "                   'capital_gain','capital_loss','hours_per_week','native_country','prediction']\n",
    "addf.head()"
   ]
  },
  {
   "cell_type": "markdown",
   "metadata": {},
   "source": [
    "### 2.1 : Create an sqlalchemy engine using a sample from the data set"
   ]
  },
  {
   "cell_type": "code",
   "execution_count": 264,
   "metadata": {},
   "outputs": [
    {
     "name": "stdout",
     "output_type": "stream",
     "text": [
      "2019-03-21 10:52:55,572 INFO sqlalchemy.engine.base.Engine SELECT CAST('test plain returns' AS VARCHAR(60)) AS anon_1\n"
     ]
    },
    {
     "name": "stderr",
     "output_type": "stream",
     "text": [
      "INFO:sqlalchemy.engine.base.Engine:SELECT CAST('test plain returns' AS VARCHAR(60)) AS anon_1\n"
     ]
    },
    {
     "name": "stdout",
     "output_type": "stream",
     "text": [
      "2019-03-21 10:52:55,574 INFO sqlalchemy.engine.base.Engine ()\n"
     ]
    },
    {
     "name": "stderr",
     "output_type": "stream",
     "text": [
      "INFO:sqlalchemy.engine.base.Engine:()\n"
     ]
    },
    {
     "name": "stdout",
     "output_type": "stream",
     "text": [
      "2019-03-21 10:52:55,578 INFO sqlalchemy.engine.base.Engine SELECT CAST('test unicode returns' AS VARCHAR(60)) AS anon_1\n"
     ]
    },
    {
     "name": "stderr",
     "output_type": "stream",
     "text": [
      "INFO:sqlalchemy.engine.base.Engine:SELECT CAST('test unicode returns' AS VARCHAR(60)) AS anon_1\n"
     ]
    },
    {
     "name": "stdout",
     "output_type": "stream",
     "text": [
      "2019-03-21 10:52:55,582 INFO sqlalchemy.engine.base.Engine ()\n"
     ]
    },
    {
     "name": "stderr",
     "output_type": "stream",
     "text": [
      "INFO:sqlalchemy.engine.base.Engine:()\n"
     ]
    },
    {
     "name": "stdout",
     "output_type": "stream",
     "text": [
      "2019-03-21 10:52:55,585 INFO sqlalchemy.engine.base.Engine PRAGMA table_info(\"adult\")\n"
     ]
    },
    {
     "name": "stderr",
     "output_type": "stream",
     "text": [
      "INFO:sqlalchemy.engine.base.Engine:PRAGMA table_info(\"adult\")\n"
     ]
    },
    {
     "name": "stdout",
     "output_type": "stream",
     "text": [
      "2019-03-21 10:52:55,587 INFO sqlalchemy.engine.base.Engine ()\n"
     ]
    },
    {
     "name": "stderr",
     "output_type": "stream",
     "text": [
      "INFO:sqlalchemy.engine.base.Engine:()\n"
     ]
    },
    {
     "name": "stdout",
     "output_type": "stream",
     "text": [
      "2019-03-21 10:52:55,636 INFO sqlalchemy.engine.base.Engine PRAGMA table_info(\"adult\")\n"
     ]
    },
    {
     "name": "stderr",
     "output_type": "stream",
     "text": [
      "INFO:sqlalchemy.engine.base.Engine:PRAGMA table_info(\"adult\")\n"
     ]
    },
    {
     "name": "stdout",
     "output_type": "stream",
     "text": [
      "2019-03-21 10:52:55,638 INFO sqlalchemy.engine.base.Engine ()\n"
     ]
    },
    {
     "name": "stderr",
     "output_type": "stream",
     "text": [
      "INFO:sqlalchemy.engine.base.Engine:()\n"
     ]
    },
    {
     "name": "stdout",
     "output_type": "stream",
     "text": [
      "2019-03-21 10:52:55,656 INFO sqlalchemy.engine.base.Engine PRAGMA table_info(\"adult\")\n"
     ]
    },
    {
     "name": "stderr",
     "output_type": "stream",
     "text": [
      "INFO:sqlalchemy.engine.base.Engine:PRAGMA table_info(\"adult\")\n"
     ]
    },
    {
     "name": "stdout",
     "output_type": "stream",
     "text": [
      "2019-03-21 10:52:55,664 INFO sqlalchemy.engine.base.Engine ()\n"
     ]
    },
    {
     "name": "stderr",
     "output_type": "stream",
     "text": [
      "INFO:sqlalchemy.engine.base.Engine:()\n"
     ]
    },
    {
     "name": "stdout",
     "output_type": "stream",
     "text": [
      "2019-03-21 10:52:55,672 INFO sqlalchemy.engine.base.Engine SELECT name FROM sqlite_master WHERE type='table' ORDER BY name\n"
     ]
    },
    {
     "name": "stderr",
     "output_type": "stream",
     "text": [
      "INFO:sqlalchemy.engine.base.Engine:SELECT name FROM sqlite_master WHERE type='table' ORDER BY name\n"
     ]
    },
    {
     "name": "stdout",
     "output_type": "stream",
     "text": [
      "2019-03-21 10:52:55,675 INFO sqlalchemy.engine.base.Engine ()\n"
     ]
    },
    {
     "name": "stderr",
     "output_type": "stream",
     "text": [
      "INFO:sqlalchemy.engine.base.Engine:()\n"
     ]
    },
    {
     "name": "stdout",
     "output_type": "stream",
     "text": [
      "2019-03-21 10:52:55,680 INFO sqlalchemy.engine.base.Engine PRAGMA table_info(\"adult\")\n"
     ]
    },
    {
     "name": "stderr",
     "output_type": "stream",
     "text": [
      "INFO:sqlalchemy.engine.base.Engine:PRAGMA table_info(\"adult\")\n"
     ]
    },
    {
     "name": "stdout",
     "output_type": "stream",
     "text": [
      "2019-03-21 10:52:55,685 INFO sqlalchemy.engine.base.Engine ()\n"
     ]
    },
    {
     "name": "stderr",
     "output_type": "stream",
     "text": [
      "INFO:sqlalchemy.engine.base.Engine:()\n"
     ]
    },
    {
     "name": "stdout",
     "output_type": "stream",
     "text": [
      "2019-03-21 10:52:55,690 INFO sqlalchemy.engine.base.Engine SELECT sql FROM  (SELECT * FROM sqlite_master UNION ALL   SELECT * FROM sqlite_temp_master) WHERE name = 'adult' AND type = 'table'\n"
     ]
    },
    {
     "name": "stderr",
     "output_type": "stream",
     "text": [
      "INFO:sqlalchemy.engine.base.Engine:SELECT sql FROM  (SELECT * FROM sqlite_master UNION ALL   SELECT * FROM sqlite_temp_master) WHERE name = 'adult' AND type = 'table'\n"
     ]
    },
    {
     "name": "stdout",
     "output_type": "stream",
     "text": [
      "2019-03-21 10:52:55,692 INFO sqlalchemy.engine.base.Engine ()\n"
     ]
    },
    {
     "name": "stderr",
     "output_type": "stream",
     "text": [
      "INFO:sqlalchemy.engine.base.Engine:()\n"
     ]
    },
    {
     "name": "stdout",
     "output_type": "stream",
     "text": [
      "2019-03-21 10:52:55,699 INFO sqlalchemy.engine.base.Engine PRAGMA foreign_key_list(\"adult\")\n"
     ]
    },
    {
     "name": "stderr",
     "output_type": "stream",
     "text": [
      "INFO:sqlalchemy.engine.base.Engine:PRAGMA foreign_key_list(\"adult\")\n"
     ]
    },
    {
     "name": "stdout",
     "output_type": "stream",
     "text": [
      "2019-03-21 10:52:55,701 INFO sqlalchemy.engine.base.Engine ()\n"
     ]
    },
    {
     "name": "stderr",
     "output_type": "stream",
     "text": [
      "INFO:sqlalchemy.engine.base.Engine:()\n"
     ]
    },
    {
     "name": "stdout",
     "output_type": "stream",
     "text": [
      "2019-03-21 10:52:55,703 INFO sqlalchemy.engine.base.Engine SELECT sql FROM  (SELECT * FROM sqlite_master UNION ALL   SELECT * FROM sqlite_temp_master) WHERE name = 'adult' AND type = 'table'\n"
     ]
    },
    {
     "name": "stderr",
     "output_type": "stream",
     "text": [
      "INFO:sqlalchemy.engine.base.Engine:SELECT sql FROM  (SELECT * FROM sqlite_master UNION ALL   SELECT * FROM sqlite_temp_master) WHERE name = 'adult' AND type = 'table'\n"
     ]
    },
    {
     "name": "stdout",
     "output_type": "stream",
     "text": [
      "2019-03-21 10:52:55,705 INFO sqlalchemy.engine.base.Engine ()\n"
     ]
    },
    {
     "name": "stderr",
     "output_type": "stream",
     "text": [
      "INFO:sqlalchemy.engine.base.Engine:()\n"
     ]
    },
    {
     "name": "stdout",
     "output_type": "stream",
     "text": [
      "2019-03-21 10:52:55,709 INFO sqlalchemy.engine.base.Engine PRAGMA index_list(\"adult\")\n"
     ]
    },
    {
     "name": "stderr",
     "output_type": "stream",
     "text": [
      "INFO:sqlalchemy.engine.base.Engine:PRAGMA index_list(\"adult\")\n"
     ]
    },
    {
     "name": "stdout",
     "output_type": "stream",
     "text": [
      "2019-03-21 10:52:55,711 INFO sqlalchemy.engine.base.Engine ()\n"
     ]
    },
    {
     "name": "stderr",
     "output_type": "stream",
     "text": [
      "INFO:sqlalchemy.engine.base.Engine:()\n"
     ]
    },
    {
     "name": "stdout",
     "output_type": "stream",
     "text": [
      "2019-03-21 10:52:55,715 INFO sqlalchemy.engine.base.Engine PRAGMA index_list(\"adult\")\n"
     ]
    },
    {
     "name": "stderr",
     "output_type": "stream",
     "text": [
      "INFO:sqlalchemy.engine.base.Engine:PRAGMA index_list(\"adult\")\n"
     ]
    },
    {
     "name": "stdout",
     "output_type": "stream",
     "text": [
      "2019-03-21 10:52:55,718 INFO sqlalchemy.engine.base.Engine ()\n"
     ]
    },
    {
     "name": "stderr",
     "output_type": "stream",
     "text": [
      "INFO:sqlalchemy.engine.base.Engine:()\n"
     ]
    },
    {
     "name": "stdout",
     "output_type": "stream",
     "text": [
      "2019-03-21 10:52:55,727 INFO sqlalchemy.engine.base.Engine SELECT sql FROM  (SELECT * FROM sqlite_master UNION ALL   SELECT * FROM sqlite_temp_master) WHERE name = 'adult' AND type = 'table'\n"
     ]
    },
    {
     "name": "stderr",
     "output_type": "stream",
     "text": [
      "INFO:sqlalchemy.engine.base.Engine:SELECT sql FROM  (SELECT * FROM sqlite_master UNION ALL   SELECT * FROM sqlite_temp_master) WHERE name = 'adult' AND type = 'table'\n"
     ]
    },
    {
     "name": "stdout",
     "output_type": "stream",
     "text": [
      "2019-03-21 10:52:55,730 INFO sqlalchemy.engine.base.Engine ()\n"
     ]
    },
    {
     "name": "stderr",
     "output_type": "stream",
     "text": [
      "INFO:sqlalchemy.engine.base.Engine:()\n"
     ]
    },
    {
     "name": "stdout",
     "output_type": "stream",
     "text": [
      "2019-03-21 10:52:55,736 INFO sqlalchemy.engine.base.Engine \n",
      "DROP TABLE adult\n"
     ]
    },
    {
     "name": "stderr",
     "output_type": "stream",
     "text": [
      "INFO:sqlalchemy.engine.base.Engine:\n",
      "DROP TABLE adult\n"
     ]
    },
    {
     "name": "stdout",
     "output_type": "stream",
     "text": [
      "2019-03-21 10:52:55,738 INFO sqlalchemy.engine.base.Engine ()\n"
     ]
    },
    {
     "name": "stderr",
     "output_type": "stream",
     "text": [
      "INFO:sqlalchemy.engine.base.Engine:()\n"
     ]
    },
    {
     "name": "stdout",
     "output_type": "stream",
     "text": [
      "2019-03-21 10:52:55,896 INFO sqlalchemy.engine.base.Engine COMMIT\n"
     ]
    },
    {
     "name": "stderr",
     "output_type": "stream",
     "text": [
      "INFO:sqlalchemy.engine.base.Engine:COMMIT\n"
     ]
    },
    {
     "name": "stdout",
     "output_type": "stream",
     "text": [
      "2019-03-21 10:52:55,916 INFO sqlalchemy.engine.base.Engine \n",
      "CREATE TABLE adult (\n",
      "\tage BIGINT, \n",
      "\tworkclass TEXT, \n",
      "\tfnlwgt BIGINT, \n",
      "\teducation TEXT, \n",
      "\teducation_num BIGINT, \n",
      "\tmartial_status TEXT, \n",
      "\toccupation TEXT, \n",
      "\trelationship TEXT, \n",
      "\trace TEXT, \n",
      "\tsex TEXT, \n",
      "\tcapital_gain BIGINT, \n",
      "\tcapital_loss BIGINT, \n",
      "\thours_per_week BIGINT, \n",
      "\tnative_country TEXT, \n",
      "\tprediction TEXT\n",
      ")\n",
      "\n",
      "\n"
     ]
    },
    {
     "name": "stderr",
     "output_type": "stream",
     "text": [
      "INFO:sqlalchemy.engine.base.Engine:\n",
      "CREATE TABLE adult (\n",
      "\tage BIGINT, \n",
      "\tworkclass TEXT, \n",
      "\tfnlwgt BIGINT, \n",
      "\teducation TEXT, \n",
      "\teducation_num BIGINT, \n",
      "\tmartial_status TEXT, \n",
      "\toccupation TEXT, \n",
      "\trelationship TEXT, \n",
      "\trace TEXT, \n",
      "\tsex TEXT, \n",
      "\tcapital_gain BIGINT, \n",
      "\tcapital_loss BIGINT, \n",
      "\thours_per_week BIGINT, \n",
      "\tnative_country TEXT, \n",
      "\tprediction TEXT\n",
      ")\n",
      "\n",
      "\n"
     ]
    },
    {
     "name": "stdout",
     "output_type": "stream",
     "text": [
      "2019-03-21 10:52:55,918 INFO sqlalchemy.engine.base.Engine ()\n"
     ]
    },
    {
     "name": "stderr",
     "output_type": "stream",
     "text": [
      "INFO:sqlalchemy.engine.base.Engine:()\n"
     ]
    },
    {
     "name": "stdout",
     "output_type": "stream",
     "text": [
      "2019-03-21 10:52:55,994 INFO sqlalchemy.engine.base.Engine COMMIT\n"
     ]
    },
    {
     "name": "stderr",
     "output_type": "stream",
     "text": [
      "INFO:sqlalchemy.engine.base.Engine:COMMIT\n"
     ]
    },
    {
     "name": "stdout",
     "output_type": "stream",
     "text": [
      "2019-03-21 10:52:56,008 INFO sqlalchemy.engine.base.Engine BEGIN (implicit)\n"
     ]
    },
    {
     "name": "stderr",
     "output_type": "stream",
     "text": [
      "INFO:sqlalchemy.engine.base.Engine:BEGIN (implicit)\n"
     ]
    },
    {
     "name": "stdout",
     "output_type": "stream",
     "text": [
      "2019-03-21 10:52:56,015 INFO sqlalchemy.engine.base.Engine INSERT INTO adult (age, workclass, fnlwgt, education, education_num, martial_status, occupation, relationship, race, sex, capital_gain, capital_loss, hours_per_week, native_country, prediction) VALUES (?, ?, ?, ?, ?, ?, ?, ?, ?, ?, ?, ?, ?, ?, ?)\n"
     ]
    },
    {
     "name": "stderr",
     "output_type": "stream",
     "text": [
      "INFO:sqlalchemy.engine.base.Engine:INSERT INTO adult (age, workclass, fnlwgt, education, education_num, martial_status, occupation, relationship, race, sex, capital_gain, capital_loss, hours_per_week, native_country, prediction) VALUES (?, ?, ?, ?, ?, ?, ?, ?, ?, ?, ?, ?, ?, ?, ?)\n"
     ]
    },
    {
     "name": "stdout",
     "output_type": "stream",
     "text": [
      "2019-03-21 10:52:56,017 INFO sqlalchemy.engine.base.Engine ((39, ' State-gov', 77516, ' Bachelors', 13, ' Never-married', ' Adm-clerical', ' Not-in-family', ' White', ' Male', 2174, 0, 40, ' United-States', ' <=50K'), (50, ' Self-emp-not-inc', 83311, ' Bachelors', 13, ' Married-civ-spouse', ' Exec-managerial', ' Husband', ' White', ' Male', 0, 0, 13, ' United-States', ' <=50K'), (38, ' Private', 215646, ' HS-grad', 9, ' Divorced', ' Handlers-cleaners', ' Not-in-family', ' White', ' Male', 0, 0, 40, ' United-States', ' <=50K'), (53, ' Private', 234721, ' 11th', 7, ' Married-civ-spouse', ' Handlers-cleaners', ' Husband', ' Black', ' Male', 0, 0, 40, ' United-States', ' <=50K'), (28, ' Private', 338409, ' Bachelors', 13, ' Married-civ-spouse', ' Prof-specialty', ' Wife', ' Black', ' Female', 0, 0, 40, ' Cuba', ' <=50K'), (37, ' Private', 284582, ' Masters', 14, ' Married-civ-spouse', ' Exec-managerial', ' Wife', ' White', ' Female', 0, 0, 40, ' United-States', ' <=50K'), (49, ' Private', 160187, ' 9th', 5, ' Married-spouse-absent', ' Other-service', ' Not-in-family', ' Black', ' Female', 0, 0, 16, ' Jamaica', ' <=50K'), (52, ' Self-emp-not-inc', 209642, ' HS-grad', 9, ' Married-civ-spouse', ' Exec-managerial', ' Husband', ' White', ' Male', 0, 0, 45, ' United-States', ' >50K')  ... displaying 10 of 101 total bound parameter sets ...  (32, ' Federal-gov', 249409, ' HS-grad', 9, ' Never-married', ' Other-service', ' Own-child', ' Black', ' Male', 0, 0, 40, ' United-States', ' <=50K'), (76, ' Private', 124191, ' Masters', 14, ' Married-civ-spouse', ' Exec-managerial', ' Husband', ' White', ' Male', 0, 0, 40, ' United-States', ' >50K'))\n"
     ]
    },
    {
     "name": "stderr",
     "output_type": "stream",
     "text": [
      "INFO:sqlalchemy.engine.base.Engine:((39, ' State-gov', 77516, ' Bachelors', 13, ' Never-married', ' Adm-clerical', ' Not-in-family', ' White', ' Male', 2174, 0, 40, ' United-States', ' <=50K'), (50, ' Self-emp-not-inc', 83311, ' Bachelors', 13, ' Married-civ-spouse', ' Exec-managerial', ' Husband', ' White', ' Male', 0, 0, 13, ' United-States', ' <=50K'), (38, ' Private', 215646, ' HS-grad', 9, ' Divorced', ' Handlers-cleaners', ' Not-in-family', ' White', ' Male', 0, 0, 40, ' United-States', ' <=50K'), (53, ' Private', 234721, ' 11th', 7, ' Married-civ-spouse', ' Handlers-cleaners', ' Husband', ' Black', ' Male', 0, 0, 40, ' United-States', ' <=50K'), (28, ' Private', 338409, ' Bachelors', 13, ' Married-civ-spouse', ' Prof-specialty', ' Wife', ' Black', ' Female', 0, 0, 40, ' Cuba', ' <=50K'), (37, ' Private', 284582, ' Masters', 14, ' Married-civ-spouse', ' Exec-managerial', ' Wife', ' White', ' Female', 0, 0, 40, ' United-States', ' <=50K'), (49, ' Private', 160187, ' 9th', 5, ' Married-spouse-absent', ' Other-service', ' Not-in-family', ' Black', ' Female', 0, 0, 16, ' Jamaica', ' <=50K'), (52, ' Self-emp-not-inc', 209642, ' HS-grad', 9, ' Married-civ-spouse', ' Exec-managerial', ' Husband', ' White', ' Male', 0, 0, 45, ' United-States', ' >50K')  ... displaying 10 of 101 total bound parameter sets ...  (32, ' Federal-gov', 249409, ' HS-grad', 9, ' Never-married', ' Other-service', ' Own-child', ' Black', ' Male', 0, 0, 40, ' United-States', ' <=50K'), (76, ' Private', 124191, ' Masters', 14, ' Married-civ-spouse', ' Exec-managerial', ' Husband', ' White', ' Male', 0, 0, 40, ' United-States', ' >50K'))\n"
     ]
    },
    {
     "name": "stdout",
     "output_type": "stream",
     "text": [
      "2019-03-21 10:52:56,028 INFO sqlalchemy.engine.base.Engine COMMIT\n"
     ]
    },
    {
     "name": "stderr",
     "output_type": "stream",
     "text": [
      "INFO:sqlalchemy.engine.base.Engine:COMMIT\n"
     ]
    }
   ],
   "source": [
    "import sqlalchemy\n",
    "from sqlalchemy import create_engine,Column, Integer, String\n",
    "from sqlalchemy.ext.declarative import declarative_base\n",
    "from sqlalchemy.orm import sessionmaker\n",
    "\n",
    "eng = create_engine('sqlite:///sqlalchemy_adult.db', echo=True)\n",
    "Base = declarative_base()\n",
    "session_mk = sessionmaker(bind=eng)\n",
    "session=session_mk()\n",
    "\n",
    "class Adult(Base) :\n",
    "    __tablename__ = 'adult'\n",
    "    age=Column(Integer)\n",
    "    workclass=Column(String)\n",
    "    fnlwgt=Column(Integer, primary_key=True)\n",
    "    education=Column(String)\n",
    "    education_num=Column(Integer)\n",
    "    martial_status=Column(String)\n",
    "    occupation=Column(String)\n",
    "    relationship=Column(String)\n",
    "    race=Column(String)\n",
    "    sex=Column(String)\n",
    "    capital_gain=Column(Integer)\n",
    "    capital_loss=Column(Integer)\n",
    "    hours_per_week=Column(Integer)\n",
    "    native_country=Column(String)\n",
    "    prediction=Column(String)\n",
    "    \n",
    "    def __repr__(self):\n",
    "        return \"<Adult(age='%d',workclass='%s', fnlwgt='%d', education='%s', education_num='%d', martial_status='%s', occupation=%s, relationship=%s, race=%s, sex='%s', capital_gain='%d', capital_loss='%d', hours_per_week='%d', native_country='%s', prediction='%s')>\" % (self.age, self.workclass, self.fnlwgt, self.education, self.education_num, self.martial_status, self.occupation, self.relationship, self.race, self.sex, self.capital_gain, self.capital_loss, self.hours_per_week, self.native_country, self.prediction)\n",
    "    \n",
    "Base.metadata.create_all(eng)\n",
    "\n",
    "addf[0:101].to_sql('adult', con=eng, index=False, if_exists='replace')"
   ]
  },
  {
   "cell_type": "markdown",
   "metadata": {},
   "source": [
    "### 2.2 : Write two basic update queries"
   ]
  },
  {
   "cell_type": "code",
   "execution_count": 271,
   "metadata": {},
   "outputs": [
    {
     "name": "stdout",
     "output_type": "stream",
     "text": [
      "2019-03-21 10:55:08,508 INFO sqlalchemy.engine.base.Engine BEGIN (implicit)\n"
     ]
    },
    {
     "name": "stderr",
     "output_type": "stream",
     "text": [
      "INFO:sqlalchemy.engine.base.Engine:BEGIN (implicit)\n"
     ]
    },
    {
     "name": "stdout",
     "output_type": "stream",
     "text": [
      "2019-03-21 10:55:08,514 INFO sqlalchemy.engine.base.Engine SELECT adult.age AS adult_age, adult.workclass AS adult_workclass, adult.fnlwgt AS adult_fnlwgt, adult.education AS adult_education, adult.education_num AS adult_education_num, adult.martial_status AS adult_martial_status, adult.occupation AS adult_occupation, adult.relationship AS adult_relationship, adult.race AS adult_race, adult.sex AS adult_sex, adult.capital_gain AS adult_capital_gain, adult.capital_loss AS adult_capital_loss, adult.hours_per_week AS adult_hours_per_week, adult.native_country AS adult_native_country, adult.prediction AS adult_prediction \n",
      "FROM adult \n",
      "WHERE adult.age = ?\n"
     ]
    },
    {
     "name": "stderr",
     "output_type": "stream",
     "text": [
      "INFO:sqlalchemy.engine.base.Engine:SELECT adult.age AS adult_age, adult.workclass AS adult_workclass, adult.fnlwgt AS adult_fnlwgt, adult.education AS adult_education, adult.education_num AS adult_education_num, adult.martial_status AS adult_martial_status, adult.occupation AS adult_occupation, adult.relationship AS adult_relationship, adult.race AS adult_race, adult.sex AS adult_sex, adult.capital_gain AS adult_capital_gain, adult.capital_loss AS adult_capital_loss, adult.hours_per_week AS adult_hours_per_week, adult.native_country AS adult_native_country, adult.prediction AS adult_prediction \n",
      "FROM adult \n",
      "WHERE adult.age = ?\n"
     ]
    },
    {
     "name": "stdout",
     "output_type": "stream",
     "text": [
      "2019-03-21 10:55:08,517 INFO sqlalchemy.engine.base.Engine ('31',)\n"
     ]
    },
    {
     "name": "stderr",
     "output_type": "stream",
     "text": [
      "INFO:sqlalchemy.engine.base.Engine:('31',)\n"
     ]
    },
    {
     "data": {
      "text/plain": [
       "[<Adult(age='31',workclass=' Private', fnlwgt='45781', education=' Masters', education_num='14', martial_status=' Never-married', occupation= Prof-specialty, relationship= Not-in-family, race= White, sex=' Female', capital_gain='14084', capital_loss='0', hours_per_week='50', native_country=' United-States', prediction=' >50K')>,\n",
       " <Adult(age='31',workclass=' Private', fnlwgt='84154', education=' Some-college', education_num='10', martial_status=' Married-civ-spouse', occupation= Sales, relationship= Husband, race= White, sex=' Male', capital_gain='0', capital_loss='0', hours_per_week='38', native_country=' ?', prediction=' >50K')>,\n",
       " <Adult(age='31',workclass=' Private', fnlwgt='507875', education=' 9th', education_num='5', martial_status=' Married-civ-spouse', occupation= Machine-op-inspct, relationship= Husband, race= White, sex=' Male', capital_gain='0', capital_loss='0', hours_per_week='43', native_country=' United-States', prediction=' <=50K')>,\n",
       " <Adult(age='31',workclass=' Private', fnlwgt='309974', education=' Bachelors', education_num='13', martial_status=' Separated', occupation= Sales, relationship= Own-child, race= Black, sex=' Female', capital_gain='0', capital_loss='0', hours_per_week='40', native_country=' United-States', prediction=' <=50K')>,\n",
       " <Adult(age='31',workclass=' Local-gov', fnlwgt='125927', education=' 7th-8th', education_num='4', martial_status=' Married-civ-spouse', occupation= Farming-fishing, relationship= Husband, race= White, sex=' Male', capital_gain='0', capital_loss='0', hours_per_week='40', native_country=' United-States', prediction=' <=50K')>]"
      ]
     },
     "execution_count": 271,
     "metadata": {},
     "output_type": "execute_result"
    }
   ],
   "source": [
    "adult1 = session.query(Adult).filter_by(age='31').all()\n",
    "adult1"
   ]
  },
  {
   "cell_type": "code",
   "execution_count": 272,
   "metadata": {},
   "outputs": [
    {
     "name": "stdout",
     "output_type": "stream",
     "text": [
      "2019-03-21 10:55:17,322 INFO sqlalchemy.engine.base.Engine SELECT adult.age AS adult_age, adult.workclass AS adult_workclass, adult.fnlwgt AS adult_fnlwgt, adult.education AS adult_education, adult.education_num AS adult_education_num, adult.martial_status AS adult_martial_status, adult.occupation AS adult_occupation, adult.relationship AS adult_relationship, adult.race AS adult_race, adult.sex AS adult_sex, adult.capital_gain AS adult_capital_gain, adult.capital_loss AS adult_capital_loss, adult.hours_per_week AS adult_hours_per_week, adult.native_country AS adult_native_country, adult.prediction AS adult_prediction \n",
      "FROM adult \n",
      "WHERE adult.education = ?\n"
     ]
    },
    {
     "name": "stderr",
     "output_type": "stream",
     "text": [
      "INFO:sqlalchemy.engine.base.Engine:SELECT adult.age AS adult_age, adult.workclass AS adult_workclass, adult.fnlwgt AS adult_fnlwgt, adult.education AS adult_education, adult.education_num AS adult_education_num, adult.martial_status AS adult_martial_status, adult.occupation AS adult_occupation, adult.relationship AS adult_relationship, adult.race AS adult_race, adult.sex AS adult_sex, adult.capital_gain AS adult_capital_gain, adult.capital_loss AS adult_capital_loss, adult.hours_per_week AS adult_hours_per_week, adult.native_country AS adult_native_country, adult.prediction AS adult_prediction \n",
      "FROM adult \n",
      "WHERE adult.education = ?\n"
     ]
    },
    {
     "name": "stdout",
     "output_type": "stream",
     "text": [
      "2019-03-21 10:55:17,326 INFO sqlalchemy.engine.base.Engine (' 11th',)\n"
     ]
    },
    {
     "name": "stderr",
     "output_type": "stream",
     "text": [
      "INFO:sqlalchemy.engine.base.Engine:(' 11th',)\n"
     ]
    },
    {
     "data": {
      "text/plain": [
       "[<Adult(age='53',workclass=' Private', fnlwgt='234721', education=' 11th', education_num='7', martial_status=' Married-civ-spouse', occupation= Handlers-cleaners, relationship= Husband, race= Black, sex=' Male', capital_gain='0', capital_loss='0', hours_per_week='40', native_country=' United-States', prediction=' <=50K')>,\n",
       " <Adult(age='38',workclass=' Private', fnlwgt='28887', education=' 11th', education_num='7', martial_status=' Married-civ-spouse', occupation= Sales, relationship= Husband, race= White, sex=' Male', capital_gain='0', capital_loss='0', hours_per_week='50', native_country=' United-States', prediction=' <=50K')>,\n",
       " <Adult(age='43',workclass=' Private', fnlwgt='117037', education=' 11th', education_num='7', martial_status=' Married-civ-spouse', occupation= Transport-moving, relationship= Husband, race= White, sex=' Male', capital_gain='0', capital_loss='2042', hours_per_week='40', native_country=' United-States', prediction=' <=50K')>,\n",
       " <Adult(age='48',workclass=' Private', fnlwgt='242406', education=' 11th', education_num='7', martial_status=' Never-married', occupation= Machine-op-inspct, relationship= Unmarried, race= White, sex=' Male', capital_gain='0', capital_loss='0', hours_per_week='40', native_country=' Puerto-Rico', prediction=' <=50K')>,\n",
       " <Adult(age='18',workclass=' Private', fnlwgt='309634', education=' 11th', education_num='7', martial_status=' Never-married', occupation= Other-service, relationship= Own-child, race= White, sex=' Female', capital_gain='0', capital_loss='0', hours_per_week='22', native_country=' United-States', prediction=' <=50K')>]"
      ]
     },
     "execution_count": 272,
     "metadata": {},
     "output_type": "execute_result"
    }
   ],
   "source": [
    "adult2 = session.query(Adult).filter_by(education=' 11th').all()\n",
    "adult2"
   ]
  },
  {
   "cell_type": "code",
   "execution_count": 273,
   "metadata": {},
   "outputs": [
    {
     "name": "stdout",
     "output_type": "stream",
     "text": [
      "2019-03-21 10:55:38,876 INFO sqlalchemy.engine.base.Engine UPDATE adult SET education=? WHERE adult.fnlwgt = ?\n"
     ]
    },
    {
     "name": "stderr",
     "output_type": "stream",
     "text": [
      "INFO:sqlalchemy.engine.base.Engine:UPDATE adult SET education=? WHERE adult.fnlwgt = ?\n"
     ]
    },
    {
     "name": "stdout",
     "output_type": "stream",
     "text": [
      "2019-03-21 10:55:38,878 INFO sqlalchemy.engine.base.Engine ('PhD', 45781)\n"
     ]
    },
    {
     "name": "stderr",
     "output_type": "stream",
     "text": [
      "INFO:sqlalchemy.engine.base.Engine:('PhD', 45781)\n"
     ]
    },
    {
     "name": "stdout",
     "output_type": "stream",
     "text": [
      "2019-03-21 10:55:38,915 INFO sqlalchemy.engine.base.Engine UPDATE adult SET sex=? WHERE adult.fnlwgt = ?\n"
     ]
    },
    {
     "name": "stderr",
     "output_type": "stream",
     "text": [
      "INFO:sqlalchemy.engine.base.Engine:UPDATE adult SET sex=? WHERE adult.fnlwgt = ?\n"
     ]
    },
    {
     "name": "stdout",
     "output_type": "stream",
     "text": [
      "2019-03-21 10:55:38,917 INFO sqlalchemy.engine.base.Engine ('Female', 234721)\n"
     ]
    },
    {
     "name": "stderr",
     "output_type": "stream",
     "text": [
      "INFO:sqlalchemy.engine.base.Engine:('Female', 234721)\n"
     ]
    },
    {
     "name": "stdout",
     "output_type": "stream",
     "text": [
      "2019-03-21 10:55:38,921 INFO sqlalchemy.engine.base.Engine COMMIT\n"
     ]
    },
    {
     "name": "stderr",
     "output_type": "stream",
     "text": [
      "INFO:sqlalchemy.engine.base.Engine:COMMIT\n"
     ]
    }
   ],
   "source": [
    "adult1[0].education = 'PhD'\n",
    "adult2[0].sex = 'Female'\n",
    "session.dirty\n",
    "session.commit()"
   ]
  },
  {
   "cell_type": "code",
   "execution_count": 274,
   "metadata": {},
   "outputs": [
    {
     "name": "stdout",
     "output_type": "stream",
     "text": [
      "2019-03-21 10:55:44,771 INFO sqlalchemy.engine.base.Engine BEGIN (implicit)\n"
     ]
    },
    {
     "name": "stderr",
     "output_type": "stream",
     "text": [
      "INFO:sqlalchemy.engine.base.Engine:BEGIN (implicit)\n"
     ]
    },
    {
     "name": "stdout",
     "output_type": "stream",
     "text": [
      "2019-03-21 10:55:44,775 INFO sqlalchemy.engine.base.Engine SELECT adult.age AS adult_age, adult.workclass AS adult_workclass, adult.fnlwgt AS adult_fnlwgt, adult.education AS adult_education, adult.education_num AS adult_education_num, adult.martial_status AS adult_martial_status, adult.occupation AS adult_occupation, adult.relationship AS adult_relationship, adult.race AS adult_race, adult.sex AS adult_sex, adult.capital_gain AS adult_capital_gain, adult.capital_loss AS adult_capital_loss, adult.hours_per_week AS adult_hours_per_week, adult.native_country AS adult_native_country, adult.prediction AS adult_prediction \n",
      "FROM adult \n",
      "WHERE adult.fnlwgt = ?\n"
     ]
    },
    {
     "name": "stderr",
     "output_type": "stream",
     "text": [
      "INFO:sqlalchemy.engine.base.Engine:SELECT adult.age AS adult_age, adult.workclass AS adult_workclass, adult.fnlwgt AS adult_fnlwgt, adult.education AS adult_education, adult.education_num AS adult_education_num, adult.martial_status AS adult_martial_status, adult.occupation AS adult_occupation, adult.relationship AS adult_relationship, adult.race AS adult_race, adult.sex AS adult_sex, adult.capital_gain AS adult_capital_gain, adult.capital_loss AS adult_capital_loss, adult.hours_per_week AS adult_hours_per_week, adult.native_country AS adult_native_country, adult.prediction AS adult_prediction \n",
      "FROM adult \n",
      "WHERE adult.fnlwgt = ?\n"
     ]
    },
    {
     "name": "stdout",
     "output_type": "stream",
     "text": [
      "2019-03-21 10:55:44,778 INFO sqlalchemy.engine.base.Engine (45781,)\n"
     ]
    },
    {
     "name": "stderr",
     "output_type": "stream",
     "text": [
      "INFO:sqlalchemy.engine.base.Engine:(45781,)\n"
     ]
    },
    {
     "name": "stdout",
     "output_type": "stream",
     "text": [
      "2019-03-21 10:55:44,784 INFO sqlalchemy.engine.base.Engine SELECT adult.age AS adult_age, adult.workclass AS adult_workclass, adult.fnlwgt AS adult_fnlwgt, adult.education AS adult_education, adult.education_num AS adult_education_num, adult.martial_status AS adult_martial_status, adult.occupation AS adult_occupation, adult.relationship AS adult_relationship, adult.race AS adult_race, adult.sex AS adult_sex, adult.capital_gain AS adult_capital_gain, adult.capital_loss AS adult_capital_loss, adult.hours_per_week AS adult_hours_per_week, adult.native_country AS adult_native_country, adult.prediction AS adult_prediction \n",
      "FROM adult \n",
      "WHERE adult.fnlwgt = ?\n"
     ]
    },
    {
     "name": "stderr",
     "output_type": "stream",
     "text": [
      "INFO:sqlalchemy.engine.base.Engine:SELECT adult.age AS adult_age, adult.workclass AS adult_workclass, adult.fnlwgt AS adult_fnlwgt, adult.education AS adult_education, adult.education_num AS adult_education_num, adult.martial_status AS adult_martial_status, adult.occupation AS adult_occupation, adult.relationship AS adult_relationship, adult.race AS adult_race, adult.sex AS adult_sex, adult.capital_gain AS adult_capital_gain, adult.capital_loss AS adult_capital_loss, adult.hours_per_week AS adult_hours_per_week, adult.native_country AS adult_native_country, adult.prediction AS adult_prediction \n",
      "FROM adult \n",
      "WHERE adult.fnlwgt = ?\n"
     ]
    },
    {
     "name": "stdout",
     "output_type": "stream",
     "text": [
      "2019-03-21 10:55:44,786 INFO sqlalchemy.engine.base.Engine (84154,)\n"
     ]
    },
    {
     "name": "stderr",
     "output_type": "stream",
     "text": [
      "INFO:sqlalchemy.engine.base.Engine:(84154,)\n"
     ]
    },
    {
     "name": "stdout",
     "output_type": "stream",
     "text": [
      "2019-03-21 10:55:44,792 INFO sqlalchemy.engine.base.Engine SELECT adult.age AS adult_age, adult.workclass AS adult_workclass, adult.fnlwgt AS adult_fnlwgt, adult.education AS adult_education, adult.education_num AS adult_education_num, adult.martial_status AS adult_martial_status, adult.occupation AS adult_occupation, adult.relationship AS adult_relationship, adult.race AS adult_race, adult.sex AS adult_sex, adult.capital_gain AS adult_capital_gain, adult.capital_loss AS adult_capital_loss, adult.hours_per_week AS adult_hours_per_week, adult.native_country AS adult_native_country, adult.prediction AS adult_prediction \n",
      "FROM adult \n",
      "WHERE adult.fnlwgt = ?\n"
     ]
    },
    {
     "name": "stderr",
     "output_type": "stream",
     "text": [
      "INFO:sqlalchemy.engine.base.Engine:SELECT adult.age AS adult_age, adult.workclass AS adult_workclass, adult.fnlwgt AS adult_fnlwgt, adult.education AS adult_education, adult.education_num AS adult_education_num, adult.martial_status AS adult_martial_status, adult.occupation AS adult_occupation, adult.relationship AS adult_relationship, adult.race AS adult_race, adult.sex AS adult_sex, adult.capital_gain AS adult_capital_gain, adult.capital_loss AS adult_capital_loss, adult.hours_per_week AS adult_hours_per_week, adult.native_country AS adult_native_country, adult.prediction AS adult_prediction \n",
      "FROM adult \n",
      "WHERE adult.fnlwgt = ?\n"
     ]
    },
    {
     "name": "stdout",
     "output_type": "stream",
     "text": [
      "2019-03-21 10:55:44,794 INFO sqlalchemy.engine.base.Engine (507875,)\n"
     ]
    },
    {
     "name": "stderr",
     "output_type": "stream",
     "text": [
      "INFO:sqlalchemy.engine.base.Engine:(507875,)\n"
     ]
    },
    {
     "name": "stdout",
     "output_type": "stream",
     "text": [
      "2019-03-21 10:55:44,798 INFO sqlalchemy.engine.base.Engine SELECT adult.age AS adult_age, adult.workclass AS adult_workclass, adult.fnlwgt AS adult_fnlwgt, adult.education AS adult_education, adult.education_num AS adult_education_num, adult.martial_status AS adult_martial_status, adult.occupation AS adult_occupation, adult.relationship AS adult_relationship, adult.race AS adult_race, adult.sex AS adult_sex, adult.capital_gain AS adult_capital_gain, adult.capital_loss AS adult_capital_loss, adult.hours_per_week AS adult_hours_per_week, adult.native_country AS adult_native_country, adult.prediction AS adult_prediction \n",
      "FROM adult \n",
      "WHERE adult.fnlwgt = ?\n"
     ]
    },
    {
     "name": "stderr",
     "output_type": "stream",
     "text": [
      "INFO:sqlalchemy.engine.base.Engine:SELECT adult.age AS adult_age, adult.workclass AS adult_workclass, adult.fnlwgt AS adult_fnlwgt, adult.education AS adult_education, adult.education_num AS adult_education_num, adult.martial_status AS adult_martial_status, adult.occupation AS adult_occupation, adult.relationship AS adult_relationship, adult.race AS adult_race, adult.sex AS adult_sex, adult.capital_gain AS adult_capital_gain, adult.capital_loss AS adult_capital_loss, adult.hours_per_week AS adult_hours_per_week, adult.native_country AS adult_native_country, adult.prediction AS adult_prediction \n",
      "FROM adult \n",
      "WHERE adult.fnlwgt = ?\n"
     ]
    },
    {
     "name": "stdout",
     "output_type": "stream",
     "text": [
      "2019-03-21 10:55:44,802 INFO sqlalchemy.engine.base.Engine (309974,)\n"
     ]
    },
    {
     "name": "stderr",
     "output_type": "stream",
     "text": [
      "INFO:sqlalchemy.engine.base.Engine:(309974,)\n"
     ]
    },
    {
     "name": "stdout",
     "output_type": "stream",
     "text": [
      "2019-03-21 10:55:44,807 INFO sqlalchemy.engine.base.Engine SELECT adult.age AS adult_age, adult.workclass AS adult_workclass, adult.fnlwgt AS adult_fnlwgt, adult.education AS adult_education, adult.education_num AS adult_education_num, adult.martial_status AS adult_martial_status, adult.occupation AS adult_occupation, adult.relationship AS adult_relationship, adult.race AS adult_race, adult.sex AS adult_sex, adult.capital_gain AS adult_capital_gain, adult.capital_loss AS adult_capital_loss, adult.hours_per_week AS adult_hours_per_week, adult.native_country AS adult_native_country, adult.prediction AS adult_prediction \n",
      "FROM adult \n",
      "WHERE adult.fnlwgt = ?\n"
     ]
    },
    {
     "name": "stderr",
     "output_type": "stream",
     "text": [
      "INFO:sqlalchemy.engine.base.Engine:SELECT adult.age AS adult_age, adult.workclass AS adult_workclass, adult.fnlwgt AS adult_fnlwgt, adult.education AS adult_education, adult.education_num AS adult_education_num, adult.martial_status AS adult_martial_status, adult.occupation AS adult_occupation, adult.relationship AS adult_relationship, adult.race AS adult_race, adult.sex AS adult_sex, adult.capital_gain AS adult_capital_gain, adult.capital_loss AS adult_capital_loss, adult.hours_per_week AS adult_hours_per_week, adult.native_country AS adult_native_country, adult.prediction AS adult_prediction \n",
      "FROM adult \n",
      "WHERE adult.fnlwgt = ?\n"
     ]
    },
    {
     "name": "stdout",
     "output_type": "stream",
     "text": [
      "2019-03-21 10:55:44,809 INFO sqlalchemy.engine.base.Engine (125927,)\n"
     ]
    },
    {
     "name": "stderr",
     "output_type": "stream",
     "text": [
      "INFO:sqlalchemy.engine.base.Engine:(125927,)\n"
     ]
    },
    {
     "data": {
      "text/plain": [
       "[<Adult(age='31',workclass=' Private', fnlwgt='45781', education='PhD', education_num='14', martial_status=' Never-married', occupation= Prof-specialty, relationship= Not-in-family, race= White, sex=' Female', capital_gain='14084', capital_loss='0', hours_per_week='50', native_country=' United-States', prediction=' >50K')>,\n",
       " <Adult(age='31',workclass=' Private', fnlwgt='84154', education=' Some-college', education_num='10', martial_status=' Married-civ-spouse', occupation= Sales, relationship= Husband, race= White, sex=' Male', capital_gain='0', capital_loss='0', hours_per_week='38', native_country=' ?', prediction=' >50K')>,\n",
       " <Adult(age='31',workclass=' Private', fnlwgt='507875', education=' 9th', education_num='5', martial_status=' Married-civ-spouse', occupation= Machine-op-inspct, relationship= Husband, race= White, sex=' Male', capital_gain='0', capital_loss='0', hours_per_week='43', native_country=' United-States', prediction=' <=50K')>,\n",
       " <Adult(age='31',workclass=' Private', fnlwgt='309974', education=' Bachelors', education_num='13', martial_status=' Separated', occupation= Sales, relationship= Own-child, race= Black, sex=' Female', capital_gain='0', capital_loss='0', hours_per_week='40', native_country=' United-States', prediction=' <=50K')>,\n",
       " <Adult(age='31',workclass=' Local-gov', fnlwgt='125927', education=' 7th-8th', education_num='4', martial_status=' Married-civ-spouse', occupation= Farming-fishing, relationship= Husband, race= White, sex=' Male', capital_gain='0', capital_loss='0', hours_per_week='40', native_country=' United-States', prediction=' <=50K')>]"
      ]
     },
     "execution_count": 274,
     "metadata": {},
     "output_type": "execute_result"
    }
   ],
   "source": [
    "adult1"
   ]
  },
  {
   "cell_type": "code",
   "execution_count": 275,
   "metadata": {},
   "outputs": [
    {
     "name": "stdout",
     "output_type": "stream",
     "text": [
      "2019-03-21 10:56:00,444 INFO sqlalchemy.engine.base.Engine SELECT adult.age AS adult_age, adult.workclass AS adult_workclass, adult.fnlwgt AS adult_fnlwgt, adult.education AS adult_education, adult.education_num AS adult_education_num, adult.martial_status AS adult_martial_status, adult.occupation AS adult_occupation, adult.relationship AS adult_relationship, adult.race AS adult_race, adult.sex AS adult_sex, adult.capital_gain AS adult_capital_gain, adult.capital_loss AS adult_capital_loss, adult.hours_per_week AS adult_hours_per_week, adult.native_country AS adult_native_country, adult.prediction AS adult_prediction \n",
      "FROM adult \n",
      "WHERE adult.fnlwgt = ?\n"
     ]
    },
    {
     "name": "stderr",
     "output_type": "stream",
     "text": [
      "INFO:sqlalchemy.engine.base.Engine:SELECT adult.age AS adult_age, adult.workclass AS adult_workclass, adult.fnlwgt AS adult_fnlwgt, adult.education AS adult_education, adult.education_num AS adult_education_num, adult.martial_status AS adult_martial_status, adult.occupation AS adult_occupation, adult.relationship AS adult_relationship, adult.race AS adult_race, adult.sex AS adult_sex, adult.capital_gain AS adult_capital_gain, adult.capital_loss AS adult_capital_loss, adult.hours_per_week AS adult_hours_per_week, adult.native_country AS adult_native_country, adult.prediction AS adult_prediction \n",
      "FROM adult \n",
      "WHERE adult.fnlwgt = ?\n"
     ]
    },
    {
     "name": "stdout",
     "output_type": "stream",
     "text": [
      "2019-03-21 10:56:00,447 INFO sqlalchemy.engine.base.Engine (234721,)\n"
     ]
    },
    {
     "name": "stderr",
     "output_type": "stream",
     "text": [
      "INFO:sqlalchemy.engine.base.Engine:(234721,)\n"
     ]
    },
    {
     "name": "stdout",
     "output_type": "stream",
     "text": [
      "2019-03-21 10:56:00,453 INFO sqlalchemy.engine.base.Engine SELECT adult.age AS adult_age, adult.workclass AS adult_workclass, adult.fnlwgt AS adult_fnlwgt, adult.education AS adult_education, adult.education_num AS adult_education_num, adult.martial_status AS adult_martial_status, adult.occupation AS adult_occupation, adult.relationship AS adult_relationship, adult.race AS adult_race, adult.sex AS adult_sex, adult.capital_gain AS adult_capital_gain, adult.capital_loss AS adult_capital_loss, adult.hours_per_week AS adult_hours_per_week, adult.native_country AS adult_native_country, adult.prediction AS adult_prediction \n",
      "FROM adult \n",
      "WHERE adult.fnlwgt = ?\n"
     ]
    },
    {
     "name": "stderr",
     "output_type": "stream",
     "text": [
      "INFO:sqlalchemy.engine.base.Engine:SELECT adult.age AS adult_age, adult.workclass AS adult_workclass, adult.fnlwgt AS adult_fnlwgt, adult.education AS adult_education, adult.education_num AS adult_education_num, adult.martial_status AS adult_martial_status, adult.occupation AS adult_occupation, adult.relationship AS adult_relationship, adult.race AS adult_race, adult.sex AS adult_sex, adult.capital_gain AS adult_capital_gain, adult.capital_loss AS adult_capital_loss, adult.hours_per_week AS adult_hours_per_week, adult.native_country AS adult_native_country, adult.prediction AS adult_prediction \n",
      "FROM adult \n",
      "WHERE adult.fnlwgt = ?\n"
     ]
    },
    {
     "name": "stdout",
     "output_type": "stream",
     "text": [
      "2019-03-21 10:56:00,456 INFO sqlalchemy.engine.base.Engine (28887,)\n"
     ]
    },
    {
     "name": "stderr",
     "output_type": "stream",
     "text": [
      "INFO:sqlalchemy.engine.base.Engine:(28887,)\n"
     ]
    },
    {
     "name": "stdout",
     "output_type": "stream",
     "text": [
      "2019-03-21 10:56:00,461 INFO sqlalchemy.engine.base.Engine SELECT adult.age AS adult_age, adult.workclass AS adult_workclass, adult.fnlwgt AS adult_fnlwgt, adult.education AS adult_education, adult.education_num AS adult_education_num, adult.martial_status AS adult_martial_status, adult.occupation AS adult_occupation, adult.relationship AS adult_relationship, adult.race AS adult_race, adult.sex AS adult_sex, adult.capital_gain AS adult_capital_gain, adult.capital_loss AS adult_capital_loss, adult.hours_per_week AS adult_hours_per_week, adult.native_country AS adult_native_country, adult.prediction AS adult_prediction \n",
      "FROM adult \n",
      "WHERE adult.fnlwgt = ?\n"
     ]
    },
    {
     "name": "stderr",
     "output_type": "stream",
     "text": [
      "INFO:sqlalchemy.engine.base.Engine:SELECT adult.age AS adult_age, adult.workclass AS adult_workclass, adult.fnlwgt AS adult_fnlwgt, adult.education AS adult_education, adult.education_num AS adult_education_num, adult.martial_status AS adult_martial_status, adult.occupation AS adult_occupation, adult.relationship AS adult_relationship, adult.race AS adult_race, adult.sex AS adult_sex, adult.capital_gain AS adult_capital_gain, adult.capital_loss AS adult_capital_loss, adult.hours_per_week AS adult_hours_per_week, adult.native_country AS adult_native_country, adult.prediction AS adult_prediction \n",
      "FROM adult \n",
      "WHERE adult.fnlwgt = ?\n"
     ]
    },
    {
     "name": "stdout",
     "output_type": "stream",
     "text": [
      "2019-03-21 10:56:00,464 INFO sqlalchemy.engine.base.Engine (117037,)\n"
     ]
    },
    {
     "name": "stderr",
     "output_type": "stream",
     "text": [
      "INFO:sqlalchemy.engine.base.Engine:(117037,)\n"
     ]
    },
    {
     "name": "stdout",
     "output_type": "stream",
     "text": [
      "2019-03-21 10:56:00,469 INFO sqlalchemy.engine.base.Engine SELECT adult.age AS adult_age, adult.workclass AS adult_workclass, adult.fnlwgt AS adult_fnlwgt, adult.education AS adult_education, adult.education_num AS adult_education_num, adult.martial_status AS adult_martial_status, adult.occupation AS adult_occupation, adult.relationship AS adult_relationship, adult.race AS adult_race, adult.sex AS adult_sex, adult.capital_gain AS adult_capital_gain, adult.capital_loss AS adult_capital_loss, adult.hours_per_week AS adult_hours_per_week, adult.native_country AS adult_native_country, adult.prediction AS adult_prediction \n",
      "FROM adult \n",
      "WHERE adult.fnlwgt = ?\n"
     ]
    },
    {
     "name": "stderr",
     "output_type": "stream",
     "text": [
      "INFO:sqlalchemy.engine.base.Engine:SELECT adult.age AS adult_age, adult.workclass AS adult_workclass, adult.fnlwgt AS adult_fnlwgt, adult.education AS adult_education, adult.education_num AS adult_education_num, adult.martial_status AS adult_martial_status, adult.occupation AS adult_occupation, adult.relationship AS adult_relationship, adult.race AS adult_race, adult.sex AS adult_sex, adult.capital_gain AS adult_capital_gain, adult.capital_loss AS adult_capital_loss, adult.hours_per_week AS adult_hours_per_week, adult.native_country AS adult_native_country, adult.prediction AS adult_prediction \n",
      "FROM adult \n",
      "WHERE adult.fnlwgt = ?\n"
     ]
    },
    {
     "name": "stdout",
     "output_type": "stream",
     "text": [
      "2019-03-21 10:56:00,472 INFO sqlalchemy.engine.base.Engine (242406,)\n"
     ]
    },
    {
     "name": "stderr",
     "output_type": "stream",
     "text": [
      "INFO:sqlalchemy.engine.base.Engine:(242406,)\n"
     ]
    },
    {
     "name": "stdout",
     "output_type": "stream",
     "text": [
      "2019-03-21 10:56:00,477 INFO sqlalchemy.engine.base.Engine SELECT adult.age AS adult_age, adult.workclass AS adult_workclass, adult.fnlwgt AS adult_fnlwgt, adult.education AS adult_education, adult.education_num AS adult_education_num, adult.martial_status AS adult_martial_status, adult.occupation AS adult_occupation, adult.relationship AS adult_relationship, adult.race AS adult_race, adult.sex AS adult_sex, adult.capital_gain AS adult_capital_gain, adult.capital_loss AS adult_capital_loss, adult.hours_per_week AS adult_hours_per_week, adult.native_country AS adult_native_country, adult.prediction AS adult_prediction \n",
      "FROM adult \n",
      "WHERE adult.fnlwgt = ?\n"
     ]
    },
    {
     "name": "stderr",
     "output_type": "stream",
     "text": [
      "INFO:sqlalchemy.engine.base.Engine:SELECT adult.age AS adult_age, adult.workclass AS adult_workclass, adult.fnlwgt AS adult_fnlwgt, adult.education AS adult_education, adult.education_num AS adult_education_num, adult.martial_status AS adult_martial_status, adult.occupation AS adult_occupation, adult.relationship AS adult_relationship, adult.race AS adult_race, adult.sex AS adult_sex, adult.capital_gain AS adult_capital_gain, adult.capital_loss AS adult_capital_loss, adult.hours_per_week AS adult_hours_per_week, adult.native_country AS adult_native_country, adult.prediction AS adult_prediction \n",
      "FROM adult \n",
      "WHERE adult.fnlwgt = ?\n"
     ]
    },
    {
     "name": "stdout",
     "output_type": "stream",
     "text": [
      "2019-03-21 10:56:00,479 INFO sqlalchemy.engine.base.Engine (309634,)\n"
     ]
    },
    {
     "name": "stderr",
     "output_type": "stream",
     "text": [
      "INFO:sqlalchemy.engine.base.Engine:(309634,)\n"
     ]
    },
    {
     "data": {
      "text/plain": [
       "[<Adult(age='53',workclass=' Private', fnlwgt='234721', education=' 11th', education_num='7', martial_status=' Married-civ-spouse', occupation= Handlers-cleaners, relationship= Husband, race= Black, sex='Female', capital_gain='0', capital_loss='0', hours_per_week='40', native_country=' United-States', prediction=' <=50K')>,\n",
       " <Adult(age='38',workclass=' Private', fnlwgt='28887', education=' 11th', education_num='7', martial_status=' Married-civ-spouse', occupation= Sales, relationship= Husband, race= White, sex=' Male', capital_gain='0', capital_loss='0', hours_per_week='50', native_country=' United-States', prediction=' <=50K')>,\n",
       " <Adult(age='43',workclass=' Private', fnlwgt='117037', education=' 11th', education_num='7', martial_status=' Married-civ-spouse', occupation= Transport-moving, relationship= Husband, race= White, sex=' Male', capital_gain='0', capital_loss='2042', hours_per_week='40', native_country=' United-States', prediction=' <=50K')>,\n",
       " <Adult(age='48',workclass=' Private', fnlwgt='242406', education=' 11th', education_num='7', martial_status=' Never-married', occupation= Machine-op-inspct, relationship= Unmarried, race= White, sex=' Male', capital_gain='0', capital_loss='0', hours_per_week='40', native_country=' Puerto-Rico', prediction=' <=50K')>,\n",
       " <Adult(age='18',workclass=' Private', fnlwgt='309634', education=' 11th', education_num='7', martial_status=' Never-married', occupation= Other-service, relationship= Own-child, race= White, sex=' Female', capital_gain='0', capital_loss='0', hours_per_week='22', native_country=' United-States', prediction=' <=50K')>]"
      ]
     },
     "execution_count": 275,
     "metadata": {},
     "output_type": "execute_result"
    }
   ],
   "source": [
    "adult2"
   ]
  },
  {
   "cell_type": "code",
   "execution_count": 276,
   "metadata": {},
   "outputs": [
    {
     "name": "stdout",
     "output_type": "stream",
     "text": [
      "2019-03-21 10:56:11,193 INFO sqlalchemy.engine.base.Engine UPDATE adult SET hours_per_week=? WHERE adult.workclass = ?\n"
     ]
    },
    {
     "name": "stderr",
     "output_type": "stream",
     "text": [
      "INFO:sqlalchemy.engine.base.Engine:UPDATE adult SET hours_per_week=? WHERE adult.workclass = ?\n"
     ]
    },
    {
     "name": "stdout",
     "output_type": "stream",
     "text": [
      "2019-03-21 10:56:11,196 INFO sqlalchemy.engine.base.Engine ('8', ' State-gov')\n"
     ]
    },
    {
     "name": "stderr",
     "output_type": "stream",
     "text": [
      "INFO:sqlalchemy.engine.base.Engine:('8', ' State-gov')\n"
     ]
    },
    {
     "name": "stdout",
     "output_type": "stream",
     "text": [
      "2019-03-21 10:56:11,202 INFO sqlalchemy.engine.base.Engine ROLLBACK\n"
     ]
    },
    {
     "name": "stderr",
     "output_type": "stream",
     "text": [
      "INFO:sqlalchemy.engine.base.Engine:ROLLBACK\n"
     ]
    }
   ],
   "source": [
    "from sqlalchemy import update\n",
    "stmt = update(Adult).where(Adult.workclass==' State-gov').values(hours_per_week='8')\n",
    "session.execute(stmt)\n",
    "session.rollback()"
   ]
  },
  {
   "cell_type": "markdown",
   "metadata": {},
   "source": [
    "### 2.3 : Write two delete queries"
   ]
  },
  {
   "cell_type": "code",
   "execution_count": 277,
   "metadata": {},
   "outputs": [
    {
     "name": "stdout",
     "output_type": "stream",
     "text": [
      "2019-03-21 10:56:20,234 INFO sqlalchemy.engine.base.Engine BEGIN (implicit)\n"
     ]
    },
    {
     "name": "stderr",
     "output_type": "stream",
     "text": [
      "INFO:sqlalchemy.engine.base.Engine:BEGIN (implicit)\n"
     ]
    },
    {
     "name": "stdout",
     "output_type": "stream",
     "text": [
      "2019-03-21 10:56:20,237 INFO sqlalchemy.engine.base.Engine DELETE FROM adult WHERE adult.workclass = ? AND adult.age = ? AND adult.sex = ?\n"
     ]
    },
    {
     "name": "stderr",
     "output_type": "stream",
     "text": [
      "INFO:sqlalchemy.engine.base.Engine:DELETE FROM adult WHERE adult.workclass = ? AND adult.age = ? AND adult.sex = ?\n"
     ]
    },
    {
     "name": "stdout",
     "output_type": "stream",
     "text": [
      "2019-03-21 10:56:20,240 INFO sqlalchemy.engine.base.Engine (' State-gov', '31', ' Male')\n"
     ]
    },
    {
     "name": "stderr",
     "output_type": "stream",
     "text": [
      "INFO:sqlalchemy.engine.base.Engine:(' State-gov', '31', ' Male')\n"
     ]
    },
    {
     "name": "stdout",
     "output_type": "stream",
     "text": [
      "2019-03-21 10:56:20,243 INFO sqlalchemy.engine.base.Engine DELETE FROM adult WHERE adult.capital_gain = ? OR adult.hours_per_week < ?\n"
     ]
    },
    {
     "name": "stderr",
     "output_type": "stream",
     "text": [
      "INFO:sqlalchemy.engine.base.Engine:DELETE FROM adult WHERE adult.capital_gain = ? OR adult.hours_per_week < ?\n"
     ]
    },
    {
     "name": "stdout",
     "output_type": "stream",
     "text": [
      "2019-03-21 10:56:20,245 INFO sqlalchemy.engine.base.Engine ('0', '30')\n"
     ]
    },
    {
     "name": "stderr",
     "output_type": "stream",
     "text": [
      "INFO:sqlalchemy.engine.base.Engine:('0', '30')\n"
     ]
    },
    {
     "name": "stdout",
     "output_type": "stream",
     "text": [
      "2019-03-21 10:56:20,640 INFO sqlalchemy.engine.base.Engine COMMIT\n"
     ]
    },
    {
     "name": "stderr",
     "output_type": "stream",
     "text": [
      "INFO:sqlalchemy.engine.base.Engine:COMMIT\n"
     ]
    }
   ],
   "source": [
    "from sqlalchemy import delete,and_,or_\n",
    "stmt1 = delete(Adult).where(and_(Adult.workclass==' State-gov',Adult.age=='31',Adult.sex==' Male'))\n",
    "stmt2 = delete(Adult).where(or_(Adult.capital_gain=='0',Adult.hours_per_week<'30'))\n",
    "session.execute(stmt1)\n",
    "session.execute(stmt2)\n",
    "session.commit()"
   ]
  },
  {
   "cell_type": "markdown",
   "metadata": {},
   "source": [
    "### 2.4 : Write two filter queries"
   ]
  },
  {
   "cell_type": "code",
   "execution_count": 278,
   "metadata": {},
   "outputs": [
    {
     "name": "stdout",
     "output_type": "stream",
     "text": [
      "2019-03-21 10:56:28,303 INFO sqlalchemy.engine.base.Engine BEGIN (implicit)\n"
     ]
    },
    {
     "name": "stderr",
     "output_type": "stream",
     "text": [
      "INFO:sqlalchemy.engine.base.Engine:BEGIN (implicit)\n"
     ]
    },
    {
     "name": "stdout",
     "output_type": "stream",
     "text": [
      "2019-03-21 10:56:28,307 INFO sqlalchemy.engine.base.Engine SELECT adult.age AS adult_age, adult.workclass AS adult_workclass, adult.fnlwgt AS adult_fnlwgt, adult.education AS adult_education, adult.education_num AS adult_education_num, adult.martial_status AS adult_martial_status, adult.occupation AS adult_occupation, adult.relationship AS adult_relationship, adult.race AS adult_race, adult.sex AS adult_sex, adult.capital_gain AS adult_capital_gain, adult.capital_loss AS adult_capital_loss, adult.hours_per_week AS adult_hours_per_week, adult.native_country AS adult_native_country, adult.prediction AS adult_prediction \n",
      "FROM adult \n",
      "WHERE adult.age >= ?\n"
     ]
    },
    {
     "name": "stderr",
     "output_type": "stream",
     "text": [
      "INFO:sqlalchemy.engine.base.Engine:SELECT adult.age AS adult_age, adult.workclass AS adult_workclass, adult.fnlwgt AS adult_fnlwgt, adult.education AS adult_education, adult.education_num AS adult_education_num, adult.martial_status AS adult_martial_status, adult.occupation AS adult_occupation, adult.relationship AS adult_relationship, adult.race AS adult_race, adult.sex AS adult_sex, adult.capital_gain AS adult_capital_gain, adult.capital_loss AS adult_capital_loss, adult.hours_per_week AS adult_hours_per_week, adult.native_country AS adult_native_country, adult.prediction AS adult_prediction \n",
      "FROM adult \n",
      "WHERE adult.age >= ?\n"
     ]
    },
    {
     "name": "stdout",
     "output_type": "stream",
     "text": [
      "2019-03-21 10:56:28,310 INFO sqlalchemy.engine.base.Engine ('31',)\n"
     ]
    },
    {
     "name": "stderr",
     "output_type": "stream",
     "text": [
      "INFO:sqlalchemy.engine.base.Engine:('31',)\n"
     ]
    },
    {
     "data": {
      "text/plain": [
       "[<Adult(age='39',workclass=' State-gov', fnlwgt='77516', education=' Bachelors', education_num='13', martial_status=' Never-married', occupation= Adm-clerical, relationship= Not-in-family, race= White, sex=' Male', capital_gain='2174', capital_loss='0', hours_per_week='40', native_country=' United-States', prediction=' <=50K')>,\n",
       " <Adult(age='31',workclass=' Private', fnlwgt='45781', education='PhD', education_num='14', martial_status=' Never-married', occupation= Prof-specialty, relationship= Not-in-family, race= White, sex=' Female', capital_gain='14084', capital_loss='0', hours_per_week='50', native_country=' United-States', prediction=' >50K')>,\n",
       " <Adult(age='42',workclass=' Private', fnlwgt='159449', education=' Bachelors', education_num='13', martial_status=' Married-civ-spouse', occupation= Exec-managerial, relationship= Husband, race= White, sex=' Male', capital_gain='5178', capital_loss='0', hours_per_week='40', native_country=' United-States', prediction=' >50K')>,\n",
       " <Adult(age='44',workclass=' Private', fnlwgt='343591', education=' HS-grad', education_num='9', martial_status=' Divorced', occupation= Craft-repair, relationship= Not-in-family, race= White, sex=' Female', capital_gain='14344', capital_loss='0', hours_per_week='40', native_country=' United-States', prediction=' >50K')>]"
      ]
     },
     "execution_count": 278,
     "metadata": {},
     "output_type": "execute_result"
    }
   ],
   "source": [
    "adult3 = session.query(Adult).filter(Adult.age>='31').all()\n",
    "adult3"
   ]
  },
  {
   "cell_type": "code",
   "execution_count": 279,
   "metadata": {},
   "outputs": [
    {
     "name": "stdout",
     "output_type": "stream",
     "text": [
      "2019-03-21 10:56:36,776 INFO sqlalchemy.engine.base.Engine SELECT adult.age AS adult_age, adult.workclass AS adult_workclass, adult.fnlwgt AS adult_fnlwgt, adult.education AS adult_education, adult.education_num AS adult_education_num, adult.martial_status AS adult_martial_status, adult.occupation AS adult_occupation, adult.relationship AS adult_relationship, adult.race AS adult_race, adult.sex AS adult_sex, adult.capital_gain AS adult_capital_gain, adult.capital_loss AS adult_capital_loss, adult.hours_per_week AS adult_hours_per_week, adult.native_country AS adult_native_country, adult.prediction AS adult_prediction \n",
      "FROM adult \n",
      "WHERE adult.race LIKE ?\n"
     ]
    },
    {
     "name": "stderr",
     "output_type": "stream",
     "text": [
      "INFO:sqlalchemy.engine.base.Engine:SELECT adult.age AS adult_age, adult.workclass AS adult_workclass, adult.fnlwgt AS adult_fnlwgt, adult.education AS adult_education, adult.education_num AS adult_education_num, adult.martial_status AS adult_martial_status, adult.occupation AS adult_occupation, adult.relationship AS adult_relationship, adult.race AS adult_race, adult.sex AS adult_sex, adult.capital_gain AS adult_capital_gain, adult.capital_loss AS adult_capital_loss, adult.hours_per_week AS adult_hours_per_week, adult.native_country AS adult_native_country, adult.prediction AS adult_prediction \n",
      "FROM adult \n",
      "WHERE adult.race LIKE ?\n"
     ]
    },
    {
     "name": "stdout",
     "output_type": "stream",
     "text": [
      "2019-03-21 10:56:36,779 INFO sqlalchemy.engine.base.Engine ('%te',)\n"
     ]
    },
    {
     "name": "stderr",
     "output_type": "stream",
     "text": [
      "INFO:sqlalchemy.engine.base.Engine:('%te',)\n"
     ]
    },
    {
     "data": {
      "text/plain": [
       "[<Adult(age='39',workclass=' State-gov', fnlwgt='77516', education=' Bachelors', education_num='13', martial_status=' Never-married', occupation= Adm-clerical, relationship= Not-in-family, race= White, sex=' Male', capital_gain='2174', capital_loss='0', hours_per_week='40', native_country=' United-States', prediction=' <=50K')>,\n",
       " <Adult(age='31',workclass=' Private', fnlwgt='45781', education='PhD', education_num='14', martial_status=' Never-married', occupation= Prof-specialty, relationship= Not-in-family, race= White, sex=' Female', capital_gain='14084', capital_loss='0', hours_per_week='50', native_country=' United-States', prediction=' >50K')>,\n",
       " <Adult(age='42',workclass=' Private', fnlwgt='159449', education=' Bachelors', education_num='13', martial_status=' Married-civ-spouse', occupation= Exec-managerial, relationship= Husband, race= White, sex=' Male', capital_gain='5178', capital_loss='0', hours_per_week='40', native_country=' United-States', prediction=' >50K')>,\n",
       " <Adult(age='30',workclass=' Private', fnlwgt='188146', education=' HS-grad', education_num='9', martial_status=' Married-civ-spouse', occupation= Machine-op-inspct, relationship= Husband, race= White, sex=' Male', capital_gain='5013', capital_loss='0', hours_per_week='40', native_country=' United-States', prediction=' <=50K')>,\n",
       " <Adult(age='30',workclass=' Private', fnlwgt='59496', education=' Bachelors', education_num='13', martial_status=' Married-civ-spouse', occupation= Sales, relationship= Husband, race= White, sex=' Male', capital_gain='2407', capital_loss='0', hours_per_week='40', native_country=' United-States', prediction=' <=50K')>,\n",
       " <Adult(age='44',workclass=' Private', fnlwgt='343591', education=' HS-grad', education_num='9', martial_status=' Divorced', occupation= Craft-repair, relationship= Not-in-family, race= White, sex=' Female', capital_gain='14344', capital_loss='0', hours_per_week='40', native_country=' United-States', prediction=' >50K')>]"
      ]
     },
     "execution_count": 279,
     "metadata": {},
     "output_type": "execute_result"
    }
   ],
   "source": [
    "adult4 = session.query(Adult).filter(Adult.race.like('%te')).all()\n",
    "adult4"
   ]
  },
  {
   "cell_type": "markdown",
   "metadata": {},
   "source": [
    "### 2.5 : Write two function queries"
   ]
  },
  {
   "cell_type": "code",
   "execution_count": 280,
   "metadata": {},
   "outputs": [
    {
     "name": "stdout",
     "output_type": "stream",
     "text": [
      "2019-03-21 10:57:13,460 INFO sqlalchemy.engine.base.Engine SELECT count(adult.workclass) AS count_1, adult.workclass AS adult_workclass \n",
      "FROM adult GROUP BY adult.workclass\n"
     ]
    },
    {
     "name": "stderr",
     "output_type": "stream",
     "text": [
      "INFO:sqlalchemy.engine.base.Engine:SELECT count(adult.workclass) AS count_1, adult.workclass AS adult_workclass \n",
      "FROM adult GROUP BY adult.workclass\n"
     ]
    },
    {
     "name": "stdout",
     "output_type": "stream",
     "text": [
      "2019-03-21 10:57:13,463 INFO sqlalchemy.engine.base.Engine ()\n"
     ]
    },
    {
     "name": "stderr",
     "output_type": "stream",
     "text": [
      "INFO:sqlalchemy.engine.base.Engine:()\n"
     ]
    },
    {
     "data": {
      "text/plain": [
       "[(5, ' Private'), (1, ' State-gov')]"
      ]
     },
     "execution_count": 280,
     "metadata": {},
     "output_type": "execute_result"
    }
   ],
   "source": [
    "from sqlalchemy import func\n",
    "stmt5 = session.query(func.count(Adult.workclass), Adult.workclass).group_by(Adult.workclass).all()\n",
    "stmt5"
   ]
  },
  {
   "cell_type": "code",
   "execution_count": 282,
   "metadata": {},
   "outputs": [
    {
     "name": "stdout",
     "output_type": "stream",
     "text": [
      "2019-03-21 10:59:46,335 INFO sqlalchemy.engine.base.Engine SELECT sum(adult.capital_gain) AS sum_1 \n",
      "FROM adult\n"
     ]
    },
    {
     "name": "stderr",
     "output_type": "stream",
     "text": [
      "INFO:sqlalchemy.engine.base.Engine:SELECT sum(adult.capital_gain) AS sum_1 \n",
      "FROM adult\n"
     ]
    },
    {
     "name": "stdout",
     "output_type": "stream",
     "text": [
      "2019-03-21 10:59:46,339 INFO sqlalchemy.engine.base.Engine ()\n"
     ]
    },
    {
     "name": "stderr",
     "output_type": "stream",
     "text": [
      "INFO:sqlalchemy.engine.base.Engine:()\n"
     ]
    },
    {
     "data": {
      "text/plain": [
       "[(43200)]"
      ]
     },
     "execution_count": 282,
     "metadata": {},
     "output_type": "execute_result"
    }
   ],
   "source": [
    "stmt6 = session.query(func.sum(Adult.capital_gain)).all()\n",
    "stmt6"
   ]
  }
 ],
 "metadata": {
  "kernelspec": {
   "display_name": "Python 3",
   "language": "python",
   "name": "python3"
  },
  "language_info": {
   "codemirror_mode": {
    "name": "ipython",
    "version": 3
   },
   "file_extension": ".py",
   "mimetype": "text/x-python",
   "name": "python",
   "nbconvert_exporter": "python",
   "pygments_lexer": "ipython3",
   "version": "3.7.0"
  }
 },
 "nbformat": 4,
 "nbformat_minor": 2
}
